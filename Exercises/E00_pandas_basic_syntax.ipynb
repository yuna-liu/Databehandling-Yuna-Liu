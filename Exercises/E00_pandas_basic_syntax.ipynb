{
 "cells": [
  {
   "cell_type": "markdown",
   "metadata": {},
   "source": [
    "# pandas fundamentals exercises\n",
    "Date: 18/10/2021\n",
    "\n",
    "---\n",
    "These are introductory exercises in Pandas with focus in **syntax, DataFrame, indexing, data selection** and **data cleaning**. Please check the [Questions][link]\n",
    "\n",
    "[link]: https://github.com/kokchun/Databehandling-21/blob/main/Exercises/E00_pandas_basic_syntax.ipynb"
   ]
  },
  {
   "cell_type": "markdown",
   "metadata": {},
   "source": [
    "## 1. Cities in Sweden - create dataset (*)\n",
    "\n",
    "Create this DataFrame from scratch: \n",
    "\n",
    "|    | Kommun    |   Population |\n",
    "|---:|:----------|-------------:|\n",
    "|  0 | Malmö     |       347949 |\n",
    "|  1 | Stockholm |       975551 |\n",
    "|  2 | Uppsala   |       233839 |\n",
    "|  3 | Göteborg  |       583056 |\n",
    "\n",
    "&nbsp; a) Use your DataFrame to print out all the cities. (*)\n",
    "\n",
    "&nbsp; b) Select only the row which contains Göteborg. Do this by using the name Göteborg. (*)\n",
    "\n",
    "&nbsp; c) Sort the cities by population from largest to smallest. (*)\n",
    "\n",
    "&nbsp; d) Filter out the three largest cities. (*)\n",
    "\n",
    "&nbsp; e) The whole population in Sweden 2020 is 10379295. Use this number to create a new column in your sorted DataFrame named: Population (%). This column should be filled with percentage of the Swedish population for each city. \n",
    "\n",
    "\n",
    "<details>\n",
    "\n",
    "<summary>Answer</summary>\n",
    "\n",
    "a) \n",
    "\n",
    "```\n",
    "0        Malmö\n",
    "1    Stockholm\n",
    "2      Uppsala\n",
    "3     Göteborg\n",
    "```\n",
    "\n",
    "b)\n",
    "\n",
    "|    | Kommun   |   Population |\n",
    "|---:|:---------|-------------:|\n",
    "|  3 | Göteborg |       583056 |\n",
    "\n",
    "c) \n",
    "\n",
    "|    | Kommun    |   Population |\n",
    "|---:|:----------|-------------:|\n",
    "|  0 | Stockholm |       975551 |\n",
    "|  1 | Göteborg  |       583056 |\n",
    "|  2 | Malmö     |       347949 |\n",
    "|  3 | Uppsala   |       233839 |\n",
    "\n",
    "\n",
    "d)\n",
    "\n",
    "|    | Kommun    |   Population |\n",
    "|---:|:----------|-------------:|\n",
    "|  0 | Stockholm |       975551 |\n",
    "|  1 | Göteborg  |       583056 |\n",
    "|  2 | Malmö     |       347949 |\n",
    "\n",
    "e)\n",
    "\n",
    "|    | Kommun    |   Population |   Population (%) |\n",
    "|---:|:----------|-------------:|-----------------:|\n",
    "|  0 | Stockholm |       975551 |              9.4 |\n",
    "|  1 | Göteborg  |       583056 |              5.6 |\n",
    "|  2 | Malmö     |       347949 |              3.4 |\n",
    "|  3 | Uppsala   |       233839 |              2.3 |\n",
    "\n",
    "</details>\n"
   ]
  },
  {
   "cell_type": "code",
   "execution_count": 66,
   "metadata": {},
   "outputs": [
    {
     "data": {
      "text/html": [
       "<div>\n",
       "<style scoped>\n",
       "    .dataframe tbody tr th:only-of-type {\n",
       "        vertical-align: middle;\n",
       "    }\n",
       "\n",
       "    .dataframe tbody tr th {\n",
       "        vertical-align: top;\n",
       "    }\n",
       "\n",
       "    .dataframe thead th {\n",
       "        text-align: right;\n",
       "    }\n",
       "</style>\n",
       "<table border=\"1\" class=\"dataframe\">\n",
       "  <thead>\n",
       "    <tr style=\"text-align: right;\">\n",
       "      <th></th>\n",
       "      <th>Kommun</th>\n",
       "      <th>Population</th>\n",
       "    </tr>\n",
       "  </thead>\n",
       "  <tbody>\n",
       "    <tr>\n",
       "      <th>0</th>\n",
       "      <td>Malmö</td>\n",
       "      <td>347949</td>\n",
       "    </tr>\n",
       "    <tr>\n",
       "      <th>1</th>\n",
       "      <td>Stockholm</td>\n",
       "      <td>975551</td>\n",
       "    </tr>\n",
       "    <tr>\n",
       "      <th>2</th>\n",
       "      <td>Uppsala</td>\n",
       "      <td>233839</td>\n",
       "    </tr>\n",
       "    <tr>\n",
       "      <th>3</th>\n",
       "      <td>Göteborg</td>\n",
       "      <td>583056</td>\n",
       "    </tr>\n",
       "  </tbody>\n",
       "</table>\n",
       "</div>"
      ],
      "text/plain": [
       "      Kommun  Population\n",
       "0      Malmö      347949\n",
       "1  Stockholm      975551\n",
       "2    Uppsala      233839\n",
       "3   Göteborg      583056"
      ]
     },
     "execution_count": 66,
     "metadata": {},
     "output_type": "execute_result"
    }
   ],
   "source": [
    "import pandas as pd\n",
    "\n",
    "# skapar en series for the first column\n",
    "data = {\"0\":\"Malmö\", \"1\":\"Stockholm\", \"2\":\"Uppsala\", \"3\": \"Göteborg\"}\n",
    "series = pd.Series(data=data)\n",
    "series\n",
    "\n",
    "# skapar en DataFrame based on the first serires and with column name\n",
    "pf = pd.DataFrame(series, columns=(\"Kommun\",))\n",
    "pf\n",
    "\n",
    "# Add a second column\n",
    "population = pd.Series({\"0\": 347949, \"1\": 975551, \"2\": 233839, \"3\":583056})\n",
    "df = pd.DataFrame({\"Kommun\":series, \"Population\":population})\n",
    "df"
   ]
  },
  {
   "cell_type": "code",
   "execution_count": 57,
   "metadata": {},
   "outputs": [
    {
     "name": "stdout",
     "output_type": "stream",
     "text": [
      "0        Malmö\n",
      "1    Stockholm\n",
      "2      Uppsala\n",
      "3     Göteborg\n",
      "Name: Kommun, dtype: object\n"
     ]
    }
   ],
   "source": [
    "## print cities:\n",
    "print(df[\"Kommun\"])"
   ]
  },
  {
   "cell_type": "code",
   "execution_count": 47,
   "metadata": {},
   "outputs": [
    {
     "name": "stdout",
     "output_type": "stream",
     "text": [
      "0    False\n",
      "1    False\n",
      "2    False\n",
      "3     True\n",
      "Name: Kommun, dtype: bool\n"
     ]
    }
   ],
   "source": [
    "print(df[\"Kommun\"]==\"Göteborg\")"
   ]
  },
  {
   "cell_type": "code",
   "execution_count": 48,
   "metadata": {},
   "outputs": [
    {
     "name": "stdout",
     "output_type": "stream",
     "text": [
      "     Kommun Population\n",
      "3  Göteborg     583056\n"
     ]
    }
   ],
   "source": [
    "print(df[df[\"Kommun\"]==\"Göteborg\"])"
   ]
  },
  {
   "cell_type": "code",
   "execution_count": 58,
   "metadata": {},
   "outputs": [
    {
     "name": "stdout",
     "output_type": "stream",
     "text": [
      "      Kommun  Population\n",
      "1  Stockholm      975551\n",
      "3   Göteborg      583056\n",
      "0      Malmö      347949\n",
      "2    Uppsala      233839\n"
     ]
    }
   ],
   "source": [
    "#c Population from largest to smallest\n",
    "population_sort = df.sort_values(by=\"Population\", ascending=False)\n",
    "print(population_sort)"
   ]
  },
  {
   "cell_type": "code",
   "execution_count": 59,
   "metadata": {},
   "outputs": [
    {
     "name": "stdout",
     "output_type": "stream",
     "text": [
      "      Kommun  Population\n",
      "1  Stockholm      975551\n",
      "3   Göteborg      583056\n",
      "0      Malmö      347949\n"
     ]
    }
   ],
   "source": [
    "print(population_sort.head(3))"
   ]
  },
  {
   "cell_type": "code",
   "execution_count": 60,
   "metadata": {},
   "outputs": [
    {
     "data": {
      "text/plain": [
       "0    3479.49\n",
       "1    9755.51\n",
       "2    2338.39\n",
       "3    5830.56\n",
       "Name: Population, dtype: float64"
      ]
     },
     "execution_count": 60,
     "metadata": {},
     "output_type": "execute_result"
    }
   ],
   "source": [
    "df[\"Population\"]/100"
   ]
  },
  {
   "cell_type": "code",
   "execution_count": 69,
   "metadata": {},
   "outputs": [
    {
     "data": {
      "text/html": [
       "<div>\n",
       "<style scoped>\n",
       "    .dataframe tbody tr th:only-of-type {\n",
       "        vertical-align: middle;\n",
       "    }\n",
       "\n",
       "    .dataframe tbody tr th {\n",
       "        vertical-align: top;\n",
       "    }\n",
       "\n",
       "    .dataframe thead th {\n",
       "        text-align: right;\n",
       "    }\n",
       "</style>\n",
       "<table border=\"1\" class=\"dataframe\">\n",
       "  <thead>\n",
       "    <tr style=\"text-align: right;\">\n",
       "      <th></th>\n",
       "      <th>Kommun</th>\n",
       "      <th>Population</th>\n",
       "      <th>Pop %</th>\n",
       "    </tr>\n",
       "  </thead>\n",
       "  <tbody>\n",
       "    <tr>\n",
       "      <th>0</th>\n",
       "      <td>Malmö</td>\n",
       "      <td>347949</td>\n",
       "      <td>3.35</td>\n",
       "    </tr>\n",
       "    <tr>\n",
       "      <th>1</th>\n",
       "      <td>Stockholm</td>\n",
       "      <td>975551</td>\n",
       "      <td>9.40</td>\n",
       "    </tr>\n",
       "    <tr>\n",
       "      <th>2</th>\n",
       "      <td>Uppsala</td>\n",
       "      <td>233839</td>\n",
       "      <td>2.25</td>\n",
       "    </tr>\n",
       "    <tr>\n",
       "      <th>3</th>\n",
       "      <td>Göteborg</td>\n",
       "      <td>583056</td>\n",
       "      <td>5.62</td>\n",
       "    </tr>\n",
       "  </tbody>\n",
       "</table>\n",
       "</div>"
      ],
      "text/plain": [
       "      Kommun  Population  Pop %\n",
       "0      Malmö      347949   3.35\n",
       "1  Stockholm      975551   9.40\n",
       "2    Uppsala      233839   2.25\n",
       "3   Göteborg      583056   5.62"
      ]
     },
     "execution_count": 69,
     "metadata": {},
     "output_type": "execute_result"
    }
   ],
   "source": [
    "sweden_population = 10379295\n",
    "df[\"Pop %\"] = df[\"Population\"]/sweden_population*100\n",
    "#df = pd.DataFrame({\"Kommun\":series, \"Population\":population, \"Pop_per_%\": population_per})\n",
    "df[\"Pop %\"]=df[\"Pop %\"].round(2)\n",
    "df"
   ]
  },
  {
   "cell_type": "markdown",
   "metadata": {},
   "source": [
    "---\n",
    "\n",
    "## 2. Cities in Sweden - real dataset (*)\n",
    "\n",
    "Go into [this page][scb_pop50], scroll down and download the Excel file containing Swedish population dataset from SCB.\n",
    "\n",
    "[scb_pop50]: https://www.scb.se/hitta-statistik/statistik-efter-amne/befolkning/befolkningens-sammansattning/befolkningsstatistik/pong/tabell-och-diagram/topplistor-kommuner/folkmangd-topp-50/\n",
    "\n",
    "&nbsp; a) Read in the tab \"Totalt\" into a DataFrame and start exploring the data with some simple explorations such as\n",
    "\n",
    "```python\n",
    "df.head()\n",
    "df.info()\n",
    "df.describe()\n",
    "```\n",
    "\n",
    "Feel free to do more explorations. (*)\n",
    "\n",
    "&nbsp; b) Clean your data so that the head looks like this: (*)\n",
    "\n",
    "\n",
    "|    |   Rang 2020 |   Rang 2019 | Kommun   |   Folkmängd 2020 |   Folkmängd 2019 |   Förändring |\n",
    "|---:|------------:|------------:|:---------|-----------------:|-----------------:|-------------:|\n",
    "|  0 |          83 |          84 | Ale      |            31868 |            31402 |     1.48398  |\n",
    "|  1 |          64 |          64 | Alingsås |            41602 |            41420 |     0.439401 |\n",
    "|  2 |         123 |         123 | Alvesta  |            20224 |            20134 |     0.447005 |\n",
    "|  3 |         255 |         255 | Aneby    |             6821 |             6848 |    -0.394276 |\n",
    "|  4 |         169 |         167 | Arboga   |            14039 |            14087 |    -0.34074  |\n",
    "\n",
    "&nbsp; c) Sort the cities by population from largest to smallest. (*)\n",
    "\n",
    "&nbsp; d) Filter out the five smallest cities. (*)\n",
    "\n",
    "&nbsp; e) Use the DataFrame to calculate Sweden's population in 2019 and 2020. (*)\n",
    "\n",
    "&nbsp; f) Plot a bar chart for the five largest cities and the five smallest cities. (*) \n",
    "\n",
    "<details>\n",
    "\n",
    "<summary>Hint</summary>\n",
    "\n",
    "a) Use\n",
    "```python\n",
    "pd.read_excel(path, header = ..., usecols=\"Letter1:LetterN\", sheet_name=\"...\")\n",
    "```\n",
    "\n",
    "</details>\n",
    "\n",
    "<details>\n",
    "\n",
    "<summary>Answer</summary>\n",
    "\n",
    "a) \n",
    "\n",
    "```\n",
    "0        Malmö\n",
    "1    Stockholm\n",
    "2      Uppsala\n",
    "3     Göteborg\n",
    "```\n",
    "\n",
    "b)\n",
    "\n",
    "|    | Kommun   |   Population |\n",
    "|---:|:---------|-------------:|\n",
    "|  3 | Göteborg |       583056 |\n",
    "\n",
    "c) \n",
    "\n",
    "\n",
    "|    |   Rang 2020 |   Rang 2019 | Kommun    |   Folkmängd 2020 |   Folkmängd 2019 |   Förändring |\n",
    "|---:|------------:|------------:|:----------|-----------------:|-----------------:|-------------:|\n",
    "|  0 |           1 |           1 | Stockholm |           975551 |           974073 |     0.151734 |\n",
    "|  1 |           2 |           2 | Göteborg  |           583056 |           579281 |     0.65167  |\n",
    "|  2 |           3 |           3 | Malmö     |           347949 |           344166 |     1.09918  |\n",
    "|  3 |           4 |           4 | Uppsala   |           233839 |           230767 |     1.33121  |\n",
    "|  4 |           5 |           5 | Linköping |           164616 |           163051 |     0.959822 |\n",
    "\n",
    "\n",
    "d)\n",
    "\n",
    "|     |   Rang 2020 |   Rang 2019 | Kommun   |   Folkmängd 2020 |   Folkmängd 2019 |   Förändring |\n",
    "|----:|------------:|------------:|:---------|-----------------:|-----------------:|-------------:|\n",
    "| 289 |         290 |         290 | Bjurholm |             2387 |             2408 |    -0.872093 |\n",
    "| 288 |         289 |         289 | Sorsele  |             2442 |             2489 |    -1.88831  |\n",
    "| 287 |         288 |         288 | Dorotea  |             2498 |             2551 |    -2.07762  |\n",
    "| 286 |         287 |         287 | Arjeplog |             2718 |             2785 |    -2.40575  |\n",
    "| 285 |         286 |         286 | Åsele    |             2805 |             2794 |     0.393701 |\n",
    "\n",
    "e)\n",
    "\n",
    "```\n",
    "Populationen i Sverige 2020: 10379295\n",
    "Populationen i Sverige 2019: 10327589\n",
    "```\n",
    "\n",
    "f)\n",
    "\n",
    "<img align=\"left\" src=\"../assets/city_sizes.png\" height=\"200\"/>\n",
    "\n",
    "</details>\n"
   ]
  },
  {
   "cell_type": "code",
   "execution_count": 43,
   "metadata": {},
   "outputs": [
    {
     "ename": "TypeError",
     "evalue": "Passing a bool to header is invalid. Use header=None for no header or header=int or list-like of ints to specify the row(s) making up the column names",
     "output_type": "error",
     "traceback": [
      "\u001b[1;31m---------------------------------------------------------------------------\u001b[0m",
      "\u001b[1;31mTypeError\u001b[0m                                 Traceback (most recent call last)",
      "\u001b[1;32mC:\\Users\\YUNALI~1\\AppData\\Local\\Temp/ipykernel_2748/3987224229.py\u001b[0m in \u001b[0;36m<module>\u001b[1;34m\u001b[0m\n\u001b[0;32m      1\u001b[0m \u001b[0mpath\u001b[0m \u001b[1;33m=\u001b[0m \u001b[1;34m\"../Data/komtopp50_2020.xlsx\"\u001b[0m\u001b[1;33m\u001b[0m\u001b[1;33m\u001b[0m\u001b[0m\n\u001b[1;32m----> 2\u001b[1;33m \u001b[0mdf\u001b[0m \u001b[1;33m=\u001b[0m \u001b[0mpd\u001b[0m\u001b[1;33m.\u001b[0m\u001b[0mread_excel\u001b[0m\u001b[1;33m(\u001b[0m\u001b[0mpath\u001b[0m\u001b[1;33m,\u001b[0m \u001b[0mheader\u001b[0m \u001b[1;33m=\u001b[0m \u001b[1;32mTrue\u001b[0m\u001b[1;33m)\u001b[0m\u001b[1;33m\u001b[0m\u001b[1;33m\u001b[0m\u001b[0m\n\u001b[0m\u001b[0;32m      3\u001b[0m \u001b[0mdf\u001b[0m\u001b[1;33m\u001b[0m\u001b[1;33m\u001b[0m\u001b[0m\n",
      "\u001b[1;32m~\\.virtualenvs\\Databehandling-Yuna-Liu-cbRWZUHp\\lib\\site-packages\\pandas\\util\\_decorators.py\u001b[0m in \u001b[0;36mwrapper\u001b[1;34m(*args, **kwargs)\u001b[0m\n\u001b[0;32m    309\u001b[0m                     \u001b[0mstacklevel\u001b[0m\u001b[1;33m=\u001b[0m\u001b[0mstacklevel\u001b[0m\u001b[1;33m,\u001b[0m\u001b[1;33m\u001b[0m\u001b[1;33m\u001b[0m\u001b[0m\n\u001b[0;32m    310\u001b[0m                 )\n\u001b[1;32m--> 311\u001b[1;33m             \u001b[1;32mreturn\u001b[0m \u001b[0mfunc\u001b[0m\u001b[1;33m(\u001b[0m\u001b[1;33m*\u001b[0m\u001b[0margs\u001b[0m\u001b[1;33m,\u001b[0m \u001b[1;33m**\u001b[0m\u001b[0mkwargs\u001b[0m\u001b[1;33m)\u001b[0m\u001b[1;33m\u001b[0m\u001b[1;33m\u001b[0m\u001b[0m\n\u001b[0m\u001b[0;32m    312\u001b[0m \u001b[1;33m\u001b[0m\u001b[0m\n\u001b[0;32m    313\u001b[0m         \u001b[1;32mreturn\u001b[0m \u001b[0mwrapper\u001b[0m\u001b[1;33m\u001b[0m\u001b[1;33m\u001b[0m\u001b[0m\n",
      "\u001b[1;32m~\\.virtualenvs\\Databehandling-Yuna-Liu-cbRWZUHp\\lib\\site-packages\\pandas\\io\\excel\\_base.py\u001b[0m in \u001b[0;36mread_excel\u001b[1;34m(io, sheet_name, header, names, index_col, usecols, squeeze, dtype, engine, converters, true_values, false_values, skiprows, nrows, na_values, keep_default_na, na_filter, verbose, parse_dates, date_parser, thousands, comment, skipfooter, convert_float, mangle_dupe_cols, storage_options)\u001b[0m\n\u001b[0;32m    370\u001b[0m \u001b[1;33m\u001b[0m\u001b[0m\n\u001b[0;32m    371\u001b[0m     \u001b[1;32mtry\u001b[0m\u001b[1;33m:\u001b[0m\u001b[1;33m\u001b[0m\u001b[1;33m\u001b[0m\u001b[0m\n\u001b[1;32m--> 372\u001b[1;33m         data = io.parse(\n\u001b[0m\u001b[0;32m    373\u001b[0m             \u001b[0msheet_name\u001b[0m\u001b[1;33m=\u001b[0m\u001b[0msheet_name\u001b[0m\u001b[1;33m,\u001b[0m\u001b[1;33m\u001b[0m\u001b[1;33m\u001b[0m\u001b[0m\n\u001b[0;32m    374\u001b[0m             \u001b[0mheader\u001b[0m\u001b[1;33m=\u001b[0m\u001b[0mheader\u001b[0m\u001b[1;33m,\u001b[0m\u001b[1;33m\u001b[0m\u001b[1;33m\u001b[0m\u001b[0m\n",
      "\u001b[1;32m~\\.virtualenvs\\Databehandling-Yuna-Liu-cbRWZUHp\\lib\\site-packages\\pandas\\io\\excel\\_base.py\u001b[0m in \u001b[0;36mparse\u001b[1;34m(self, sheet_name, header, names, index_col, usecols, squeeze, converters, true_values, false_values, skiprows, nrows, na_values, parse_dates, date_parser, thousands, comment, skipfooter, convert_float, mangle_dupe_cols, **kwds)\u001b[0m\n\u001b[0;32m   1270\u001b[0m             \u001b[0mDataFrame\u001b[0m \u001b[1;32mfrom\u001b[0m \u001b[0mthe\u001b[0m \u001b[0mpassed\u001b[0m \u001b[1;32min\u001b[0m \u001b[0mExcel\u001b[0m \u001b[0mfile\u001b[0m\u001b[1;33m.\u001b[0m\u001b[1;33m\u001b[0m\u001b[1;33m\u001b[0m\u001b[0m\n\u001b[0;32m   1271\u001b[0m         \"\"\"\n\u001b[1;32m-> 1272\u001b[1;33m         return self._reader.parse(\n\u001b[0m\u001b[0;32m   1273\u001b[0m             \u001b[0msheet_name\u001b[0m\u001b[1;33m=\u001b[0m\u001b[0msheet_name\u001b[0m\u001b[1;33m,\u001b[0m\u001b[1;33m\u001b[0m\u001b[1;33m\u001b[0m\u001b[0m\n\u001b[0;32m   1274\u001b[0m             \u001b[0mheader\u001b[0m\u001b[1;33m=\u001b[0m\u001b[0mheader\u001b[0m\u001b[1;33m,\u001b[0m\u001b[1;33m\u001b[0m\u001b[1;33m\u001b[0m\u001b[0m\n",
      "\u001b[1;32m~\\.virtualenvs\\Databehandling-Yuna-Liu-cbRWZUHp\\lib\\site-packages\\pandas\\io\\excel\\_base.py\u001b[0m in \u001b[0;36mparse\u001b[1;34m(self, sheet_name, header, names, index_col, usecols, squeeze, dtype, true_values, false_values, skiprows, nrows, na_values, verbose, parse_dates, date_parser, thousands, comment, skipfooter, convert_float, mangle_dupe_cols, **kwds)\u001b[0m\n\u001b[0;32m    509\u001b[0m             )\n\u001b[0;32m    510\u001b[0m \u001b[1;33m\u001b[0m\u001b[0m\n\u001b[1;32m--> 511\u001b[1;33m         \u001b[0mvalidate_header_arg\u001b[0m\u001b[1;33m(\u001b[0m\u001b[0mheader\u001b[0m\u001b[1;33m)\u001b[0m\u001b[1;33m\u001b[0m\u001b[1;33m\u001b[0m\u001b[0m\n\u001b[0m\u001b[0;32m    512\u001b[0m \u001b[1;33m\u001b[0m\u001b[0m\n\u001b[0;32m    513\u001b[0m         \u001b[0mret_dict\u001b[0m \u001b[1;33m=\u001b[0m \u001b[1;32mFalse\u001b[0m\u001b[1;33m\u001b[0m\u001b[1;33m\u001b[0m\u001b[0m\n",
      "\u001b[1;32m~\\.virtualenvs\\Databehandling-Yuna-Liu-cbRWZUHp\\lib\\site-packages\\pandas\\io\\common.py\u001b[0m in \u001b[0;36mvalidate_header_arg\u001b[1;34m(header)\u001b[0m\n\u001b[0;32m    162\u001b[0m \u001b[1;32mdef\u001b[0m \u001b[0mvalidate_header_arg\u001b[0m\u001b[1;33m(\u001b[0m\u001b[0mheader\u001b[0m\u001b[1;33m)\u001b[0m \u001b[1;33m->\u001b[0m \u001b[1;32mNone\u001b[0m\u001b[1;33m:\u001b[0m\u001b[1;33m\u001b[0m\u001b[1;33m\u001b[0m\u001b[0m\n\u001b[0;32m    163\u001b[0m     \u001b[1;32mif\u001b[0m \u001b[0misinstance\u001b[0m\u001b[1;33m(\u001b[0m\u001b[0mheader\u001b[0m\u001b[1;33m,\u001b[0m \u001b[0mbool\u001b[0m\u001b[1;33m)\u001b[0m\u001b[1;33m:\u001b[0m\u001b[1;33m\u001b[0m\u001b[1;33m\u001b[0m\u001b[0m\n\u001b[1;32m--> 164\u001b[1;33m         raise TypeError(\n\u001b[0m\u001b[0;32m    165\u001b[0m             \u001b[1;34m\"Passing a bool to header is invalid. Use header=None for no header or \"\u001b[0m\u001b[1;33m\u001b[0m\u001b[1;33m\u001b[0m\u001b[0m\n\u001b[0;32m    166\u001b[0m             \u001b[1;34m\"header=int or list-like of ints to specify \"\u001b[0m\u001b[1;33m\u001b[0m\u001b[1;33m\u001b[0m\u001b[0m\n",
      "\u001b[1;31mTypeError\u001b[0m: Passing a bool to header is invalid. Use header=None for no header or header=int or list-like of ints to specify the row(s) making up the column names"
     ]
    }
   ],
   "source": [
    "path = \"../Data/komtopp50_2020.xlsx\"\n",
    "df = pd.read_excel(path, header = True)\n",
    "df"
   ]
  },
  {
   "cell_type": "markdown",
   "metadata": {},
   "source": [
    "---\n",
    "\n",
    "## 3. Cities in Sweden - gender (*)\n",
    "\n",
    "We continue with the same Excel-file as in task 2, but now you should also read in the sheets \"Kvinnor\" and \"Män\" into two additional DataFrames. In this task, many operations are similar to all three datasets, try creating custom made functions to reuse as much code as possible.\n",
    "\n",
    "&nbsp; a) Clean your data so that the head looks like this: (*)\n",
    "\n",
    "Male: \n",
    "\n",
    "|    |   Rang 2020 |   Rang 2019 | Kommun   |   Folkmängd 2020 |   Folkmängd 2019 |   Förändring | Kön   |\n",
    "|---:|------------:|------------:|:---------|-----------------:|-----------------:|-------------:|:------|\n",
    "|  0 |          81 |          83 | Ale      |            16256 |            16054 |     1.25825  | Man   |\n",
    "|  1 |          64 |          64 | Alingsås |            20702 |            20646 |     0.271239 | Man   |\n",
    "|  2 |         122 |         123 | Alvesta  |            10367 |            10339 |     0.270819 | Man   |\n",
    "|  3 |         255 |         255 | Aneby    |             3503 |             3498 |     0.142939 | Man   |\n",
    "|  4 |         169 |         168 | Arboga   |             7094 |             7114 |    -0.281136 | Man   |\n",
    "\n",
    "Female: \n",
    "\n",
    "|    |   Rang 2020 |   Rang 2019 | Kommun   |   Folkmängd 2020 |   Folkmängd 2019 |   Förändring | Kön    |\n",
    "|---:|------------:|------------:|:---------|-----------------:|-----------------:|-------------:|:-------|\n",
    "|  0 |          84 |          85 | Ale      |            15612 |            15348 |     1.72009  | Kvinna |\n",
    "|  1 |          64 |          64 | Alingsås |            20900 |            20774 |     0.606527 | Kvinna |\n",
    "|  2 |         123 |         123 | Alvesta  |             9857 |             9795 |     0.632976 | Kvinna |\n",
    "|  3 |         255 |         255 | Aneby    |             3318 |             3350 |    -0.955224 | Kvinna |\n",
    "|  4 |         165 |         164 | Arboga   |             6945 |             6973 |    -0.401549 | Kvinna |\n",
    "\n",
    "\n",
    "&nbsp; b) Merge the male and female DataFrames vertically and set index to \"Kommun\". Note that there now should be 580 rows now.  (*)\n",
    "\n",
    "|    | Kommun   |   Folkmängd 2020 |   Folkmängd 2019 |   Förändring | Kön   |\n",
    "|---:|:---------|-----------------:|-----------------:|-------------:|:------|\n",
    "|  0 | Ale      |            16256 |            16054 |     1.25825  | Man   |\n",
    "|  1 | Alingsås |            20702 |            20646 |     0.271239 | Man   |\n",
    "|   ...  | ...       | ...  | ...   | ...  | ...    |\n",
    "| 288 | Överkalix    |             1559 |             1578 |    -1.20406  | Kvinna |\n",
    "| 289 | Övertorneå   |             2027 |             2065 |    -1.84019  | Kvinna |\n",
    "\n",
    "&nbsp; c) Extract and change column name from the total DataFrame so that the head look like this: (*) \n",
    "\n",
    "|    | Kommun   |   Total Pop 2020 |   Total Pop 2019 |   Total förändring |\n",
    "|---:|:---------|-----------------:|-----------------:|-------------------:|\n",
    "|  0 | Ale      |            31868 |            31402 |           1.48398  |\n",
    "|  1 | Alingsås |            41602 |            41420 |           0.439401 |\n",
    "|  2 | Alvesta  |            20224 |            20134 |           0.447005 |\n",
    "|  3 | Aneby    |             6821 |             6848 |          -0.394276 |\n",
    "|  4 | Arboga   |            14039 |            14087 |          -0.34074  |\n",
    "\n",
    "&nbsp; d) Merge this data with the data in b) so that the head look like this: (*)\n",
    "\n",
    "| Kommun    |   Folkmängd 2020 |   Folkmängd 2019 |   Förändring | Kön    |   Total Pop 2020 |   Total Pop 2019 |   Total förändring |\n",
    "|:----------|-----------------:|-----------------:|-------------:|:-------|-----------------:|-----------------:|-------------------:|\n",
    "| Stockholm |           482982 |           482220 |     0.158019 | Man    |           975551 |           974073 |           0.151734 |\n",
    "| Stockholm |           492569 |           491853 |     0.145572 | Kvinna |           975551 |           974073 |           0.151734 |\n",
    "| Göteborg  |           292505 |           290308 |     0.756782 | Man    |           583056 |           579281 |           0.65167  |\n",
    "| Göteborg  |           290551 |           288973 |     0.546072 | Kvinna |           583056 |           579281 |           0.65167  |\n",
    "| Malmö     |           175411 |           173543 |     1.07639  | Kvinna |           347949 |           344166 |           1.09918  |\n",
    "\n",
    "&nbsp; e) Create barplots showing the gender populations of Swedens 10 largest and 10 smallest cities. (*) \n",
    " \n",
    "&nbsp; f) Create a pie chart showing the total male and female population in Sweden 2020. (*)\n",
    "\n",
    "&nbsp; g) Create a barplot showing the cities with the five largest percentual gender difference in 2020. (**)\n",
    "\n",
    "&nbsp; h) Create a barplot showing the top 5 cities with largest populational growth from 2019 to 2020 (**)\n",
    "\n",
    "&nbsp; i) Feel free to investigate other questions you are interested in using these datasets. (*), (**)\n",
    "\n",
    "<br/>\n",
    "\n",
    "<details>\n",
    "\n",
    "<summary>Hint</summary>\n",
    "\n",
    "f) You need to process the data first. For example\n",
    "\n",
    "- compute difference between males and females in 2020\n",
    "- use this difference to compute the differences in percentage\n",
    "- sort the values by this percentage difference\n",
    "- use seaborn barplot to plot, with the gender as hue\n",
    "\n",
    "</details>\n",
    "\n",
    "<br/>\n",
    "\n",
    "<details>\n",
    "\n",
    "<summary>Answer</summary>\n",
    "\n",
    "e)\n",
    "\n",
    "<img src=\"../assets/population_gender.png\" height=\"200\"/>\n",
    "\n",
    "f)\n",
    "\n",
    "<img src=\"../assets/population_genders_pie.png\" height=\"200\"/>\n",
    "\n",
    "g)\n",
    "\n",
    "<img src=\"../assets/cities_largest_gender_diff.png\" height=\"200\"/>\n",
    "\n",
    "h)\n",
    "\n",
    "<img src=\"../assets/pop_change.png\" height=\"200\"/>\n",
    "\n",
    "</details>\n"
   ]
  },
  {
   "cell_type": "markdown",
   "metadata": {},
   "source": [
    "---\n",
    "\n",
    "Kokchun Giang\n",
    "\n",
    "[LinkedIn][linkedIn_kokchun]\n",
    "\n",
    "[GitHub portfolio][github_portfolio]\n",
    "\n",
    "[linkedIn_kokchun]: https://www.linkedin.com/in/kokchungiang/\n",
    "[github_portfolio]: https://github.com/kokchun/Portfolio-Kokchun-Giang\n",
    "\n",
    "---"
   ]
  }
 ],
 "metadata": {
  "interpreter": {
   "hash": "a6af3a3bb251bcb72cfdd789c0ff929377064d8a2e64281876c18e53714e278c"
  },
  "kernelspec": {
   "display_name": "Python 3.9.6 64-bit",
   "name": "python3"
  },
  "language_info": {
   "codemirror_mode": {
    "name": "ipython",
    "version": 3
   },
   "file_extension": ".py",
   "mimetype": "text/x-python",
   "name": "python",
   "nbconvert_exporter": "python",
   "pygments_lexer": "ipython3",
   "version": "3.9.6"
  },
  "orig_nbformat": 4
 },
 "nbformat": 4,
 "nbformat_minor": 2
}
