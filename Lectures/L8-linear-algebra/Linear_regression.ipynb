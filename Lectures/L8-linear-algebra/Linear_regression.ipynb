{
 "cells": [
  {
   "cell_type": "markdown",
   "metadata": {},
   "source": [
    "# Linear equations"
   ]
  },
  {
   "cell_type": "code",
   "execution_count": 8,
   "metadata": {},
   "outputs": [
    {
     "name": "stdout",
     "output_type": "stream",
     "text": [
      "[[ 2 -1]\n",
      " [-2  1]\n",
      " [-1  2]]\n",
      "[[ 4 -3]\n",
      " [ 3  5]]\n"
     ]
    },
    {
     "data": {
      "text/plain": [
       "array([[  5, -11],\n",
       "       [ -5,  11],\n",
       "       [  2,  13]])"
      ]
     },
     "execution_count": 8,
     "metadata": {},
     "output_type": "execute_result"
    }
   ],
   "source": [
    "import numpy as np\n",
    "A = np.array(([2, -1],\n",
    "              [-2, 1],\n",
    "              [-1, 2]))\n",
    "B = np.array(([4, -3],\n",
    "              [3, 5]))\n",
    "\n",
    "print(A)\n",
    "print(B)\n",
    "\n",
    "# matmul - matrix multiplication\n",
    "A@B"
   ]
  },
  {
   "cell_type": "code",
   "execution_count": 15,
   "metadata": {},
   "outputs": [
    {
     "name": "stdout",
     "output_type": "stream",
     "text": [
      "Inverse A\n",
      " [[ 3. -5.]\n",
      " [-1.  2.]]\n"
     ]
    },
    {
     "data": {
      "text/plain": [
       "array([[1., 0.],\n",
       "       [0., 1.]])"
      ]
     },
     "execution_count": 15,
     "metadata": {},
     "output_type": "execute_result"
    }
   ],
   "source": [
    "A = np.array(([2, 5],\n",
    "              [1, 3]))\n",
    "\n",
    "print(\"Inverse A\\n\", np.linalg.inv(A))\n",
    "\n",
    "np.linalg.inv(A)@A"
   ]
  },
  {
   "cell_type": "markdown",
   "metadata": {},
   "source": [
    "## Linear regression"
   ]
  },
  {
   "cell_type": "code",
   "execution_count": 21,
   "metadata": {},
   "outputs": [
    {
     "data": {
      "text/html": [
       "<div>\n",
       "<style scoped>\n",
       "    .dataframe tbody tr th:only-of-type {\n",
       "        vertical-align: middle;\n",
       "    }\n",
       "\n",
       "    .dataframe tbody tr th {\n",
       "        vertical-align: top;\n",
       "    }\n",
       "\n",
       "    .dataframe thead th {\n",
       "        text-align: right;\n",
       "    }\n",
       "</style>\n",
       "<table border=\"1\" class=\"dataframe\">\n",
       "  <thead>\n",
       "    <tr style=\"text-align: right;\">\n",
       "      <th></th>\n",
       "      <th>Utbildning</th>\n",
       "      <th>Lön</th>\n",
       "    </tr>\n",
       "  </thead>\n",
       "  <tbody>\n",
       "    <tr>\n",
       "      <th>0</th>\n",
       "      <td>3.5</td>\n",
       "      <td>34652</td>\n",
       "    </tr>\n",
       "    <tr>\n",
       "      <th>1</th>\n",
       "      <td>2.9</td>\n",
       "      <td>33467</td>\n",
       "    </tr>\n",
       "    <tr>\n",
       "      <th>2</th>\n",
       "      <td>3.6</td>\n",
       "      <td>37553</td>\n",
       "    </tr>\n",
       "    <tr>\n",
       "      <th>3</th>\n",
       "      <td>4.5</td>\n",
       "      <td>41010</td>\n",
       "    </tr>\n",
       "    <tr>\n",
       "      <th>4</th>\n",
       "      <td>2.8</td>\n",
       "      <td>33506</td>\n",
       "    </tr>\n",
       "  </tbody>\n",
       "</table>\n",
       "</div>"
      ],
      "text/plain": [
       "   Utbildning    Lön\n",
       "0         3.5  34652\n",
       "1         2.9  33467\n",
       "2         3.6  37553\n",
       "3         4.5  41010\n",
       "4         2.8  33506"
      ]
     },
     "execution_count": 21,
     "metadata": {},
     "output_type": "execute_result"
    }
   ],
   "source": [
    "import pandas as pd \n",
    "df = pd.read_csv(\"löndata.csv\")\n",
    "df.head()"
   ]
  },
  {
   "cell_type": "code",
   "execution_count": 45,
   "metadata": {},
   "outputs": [
    {
     "name": "stdout",
     "output_type": "stream",
     "text": [
      "[20893.83571523  4703.603963  ]\n"
     ]
    },
    {
     "data": {
      "image/png": "[encoded data removed]",
      "text/plain": [
       "<Figure size 432x288 with 1 Axes>"
      ]
     },
     "metadata": {
      "needs_background": "light"
     },
     "output_type": "display_data"
    }
   ],
   "source": [
    "import seaborn as sns\n",
    "educ_time, y = df.to_numpy()[:,0], df.to_numpy()[:,1]\n",
    "\n",
    "X = np.vstack([np.ones(len(educ_time)), educ_time]).T\n",
    "\n",
    "# beta = (X^TX)^-1 X^T y\n",
    "beta_hat = np.linalg.inv(X.T@X)@X.T@y\n",
    "print(beta_hat)\n",
    "\n",
    "y_hat = X@beta_hat\n",
    "\n",
    "ax = sns.lineplot(x = educ_time, y = y_hat, color=\"red\")\n",
    "ax = sns.scatterplot(data = df, x = \"Utbildning\", y = \"Lön\" )\n",
    "ax.set(title = \"Linjär regression på utbildning och lön\");"
   ]
  },
  {
   "cell_type": "code",
   "execution_count": 46,
   "metadata": {},
   "outputs": [
    {
     "data": {
      "text/plain": [
       "array([[1. , 3.5],\n",
       "       [1. , 2.9],\n",
       "       [1. , 3.6],\n",
       "       [1. , 4.5],\n",
       "       [1. , 2.8],\n",
       "       [1. , 2.8],\n",
       "       [1. , 4.6],\n",
       "       [1. , 3.8],\n",
       "       [1. , 2.5],\n",
       "       [1. , 3.5],\n",
       "       [1. , 2.5],\n",
       "       [1. , 2.5],\n",
       "       [1. , 3.2],\n",
       "       [1. , 1.1],\n",
       "       [1. , 1.3],\n",
       "       [1. , 2.4],\n",
       "       [1. , 2. ],\n",
       "       [1. , 3.3],\n",
       "       [1. , 2.1],\n",
       "       [1. , 1.6],\n",
       "       [1. , 4.5],\n",
       "       [1. , 2.8],\n",
       "       [1. , 3.1],\n",
       "       [1. , 1.6],\n",
       "       [1. , 2.5],\n",
       "       [1. , 3.1],\n",
       "       [1. , 1.8],\n",
       "       [1. , 3.4],\n",
       "       [1. , 2.4],\n",
       "       [1. , 2.7],\n",
       "       [1. , 2.4],\n",
       "       [1. , 4.9],\n",
       "       [1. , 3. ],\n",
       "       [1. , 1.9],\n",
       "       [1. , 3.8],\n",
       "       [1. , 1.8],\n",
       "       [1. , 3.2],\n",
       "       [1. , 1. ],\n",
       "       [1. , 1.7],\n",
       "       [1. , 3.2],\n",
       "       [1. , 3.7],\n",
       "       [1. , 3.2],\n",
       "       [1. , 2.9],\n",
       "       [1. , 2.7],\n",
       "       [1. , 1.5],\n",
       "       [1. , 2.3],\n",
       "       [1. , 2.5],\n",
       "       [1. , 4.1],\n",
       "       [1. , 3.3],\n",
       "       [1. , 1.2],\n",
       "       [1. , 3.3],\n",
       "       [1. , 2.6],\n",
       "       [1. , 2.3],\n",
       "       [1. , 3.6],\n",
       "       [1. , 4. ],\n",
       "       [1. , 3.9],\n",
       "       [1. , 2.2],\n",
       "       [1. , 2.7],\n",
       "       [1. , 3.3],\n",
       "       [1. , 4. ],\n",
       "       [1. , 2.5],\n",
       "       [1. , 2.8],\n",
       "       [1. , 1.9],\n",
       "       [1. , 1.8],\n",
       "       [1. , 3.8],\n",
       "       [1. , 4.4],\n",
       "       [1. , 2.9],\n",
       "       [1. , 4. ],\n",
       "       [1. , 3.4],\n",
       "       [1. , 2.4],\n",
       "       [1. , 3.4],\n",
       "       [1. , 4.5],\n",
       "       [1. , 3. ],\n",
       "       [1. , 4.6],\n",
       "       [1. , 0.4],\n",
       "       [1. , 3.8],\n",
       "       [1. , 3.1],\n",
       "       [1. , 2.7],\n",
       "       [1. , 3.1],\n",
       "       [1. , 1. ],\n",
       "       [1. , 2.8],\n",
       "       [1. , 3.4],\n",
       "       [1. , 4.5],\n",
       "       [1. , 2.5],\n",
       "       [1. , 2.2],\n",
       "       [1. , 2.5],\n",
       "       [1. , 3.9],\n",
       "       [1. , 3.3],\n",
       "       [1. , 2.5],\n",
       "       [1. , 3.5],\n",
       "       [1. , 3.1],\n",
       "       [1. , 4. ],\n",
       "       [1. , 2.3],\n",
       "       [1. , 2.7],\n",
       "       [1. , 2.6],\n",
       "       [1. , 1.5],\n",
       "       [1. , 3.3],\n",
       "       [1. , 3.3],\n",
       "       [1. , 3. ],\n",
       "       [1. , 2.8]])"
      ]
     },
     "execution_count": 46,
     "metadata": {},
     "output_type": "execute_result"
    }
   ],
   "source": [
    "X"
   ]
  },
  {
   "cell_type": "markdown",
   "metadata": {},
   "source": []
  }
 ],
 "metadata": {
  "interpreter": {
   "hash": "546cc3b3ce5360cbdb485aa0b0c3c2439fd61639081f0e14348bb4ac5b946eda"
  },
  "kernelspec": {
   "display_name": "Python 3.9.6 64-bit ('Databehandling-Kokchun-Giang-4oaWqXcr': pipenv)",
   "language": "python",
   "name": "python3"
  },
  "language_info": {
   "codemirror_mode": {
    "name": "ipython",
    "version": 3
   },
   "file_extension": ".py",
   "mimetype": "text/x-python",
   "name": "python",
   "nbconvert_exporter": "python",
   "pygments_lexer": "ipython3",
   "version": "3.9.6"
  },
  "orig_nbformat": 4
 },
 "nbformat": 4,
 "nbformat_minor": 2
}
