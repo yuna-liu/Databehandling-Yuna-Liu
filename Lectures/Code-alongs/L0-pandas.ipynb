{
 "cells": [
  {
   "cell_type": "markdown",
   "metadata": {},
   "source": [
    "# Intro till Pandas\n",
    "- Series object\n",
    "- DataFrame object"
   ]
  },
  {
   "cell_type": "code",
   "execution_count": null,
   "metadata": {},
   "outputs": [],
   "source": [
    "import pandas as pd \n",
    "\n",
    "data = dict(AI = 25, NET=30, APP = 27, Java = 23)\n",
    "series = pd.Series(data=data)\n",
    "series "
   ]
  },
  {
   "cell_type": "code",
   "execution_count": null,
   "metadata": {},
   "outputs": [],
   "source": [
    "data2 = dict(AI = 21, NET=30.0, APP = 27, Java = 23)\n",
    "pd.Series(data2)"
   ]
  },
  {
   "cell_type": "code",
   "execution_count": null,
   "metadata": {},
   "outputs": [],
   "source": [
    "# extracting values \n",
    "print(f\"series[0]: {series[0]}\")\n",
    "print(f\"series[-1]: {series[-1]}\")\n",
    "\n",
    "# extract keys\n",
    "print(f\"series.keys: {series.keys()}\")\n",
    "print(f\"series.keys[-2]: {series.keys()[-2]}\")"
   ]
  },
  {
   "cell_type": "markdown",
   "metadata": {},
   "source": [
    "## DataFrame"
   ]
  },
  {
   "cell_type": "code",
   "execution_count": null,
   "metadata": {},
   "outputs": [],
   "source": [
    "df = pd.DataFrame(series)\n",
    "#print(df)\n",
    "df"
   ]
  },
  {
   "cell_type": "code",
   "execution_count": null,
   "metadata": {},
   "outputs": [],
   "source": [
    "df = pd.DataFrame(series, columns=(\"Number students\",))\n",
    "df"
   ]
  },
  {
   "cell_type": "code",
   "execution_count": null,
   "metadata": {},
   "outputs": [],
   "source": [
    "languages = pd.Series(dict(AI=\"Python\", NET = \"C#\", APP = \"Kotlin\", Java=\"JAVA\"))\n",
    "df = pd.DataFrame({\"Students\":series, \"Language\":languages})\n",
    "df"
   ]
  },
  {
   "cell_type": "code",
   "execution_count": null,
   "metadata": {},
   "outputs": [],
   "source": [
    "df.index # komma åt index"
   ]
  },
  {
   "cell_type": "markdown",
   "metadata": {},
   "source": [
    "## Data selection"
   ]
  },
  {
   "cell_type": "code",
   "execution_count": null,
   "metadata": {},
   "outputs": [],
   "source": [
    "df.Students # gets a Series with attribute-approach"
   ]
  },
  {
   "cell_type": "code",
   "execution_count": null,
   "metadata": {},
   "outputs": [],
   "source": [
    "df[\"Students\"] # gets a Series with dictionary-keys approach (__getitem__())"
   ]
  },
  {
   "cell_type": "code",
   "execution_count": null,
   "metadata": {},
   "outputs": [],
   "source": [
    "# multiple columns\n",
    "df[[\"Language\", \"Students\"]]"
   ]
  },
  {
   "cell_type": "code",
   "execution_count": null,
   "metadata": {},
   "outputs": [],
   "source": [
    "# wants to get all rows > 24 students\n",
    "print(df[\"Students\"] > 24) # __gt__()\n",
    "\n",
    "# masking\n",
    "large_groups = df[df[\"Students\"] > 24] # picked out all rows that are True\n",
    "large_groups"
   ]
  },
  {
   "cell_type": "code",
   "execution_count": null,
   "metadata": {},
   "outputs": [],
   "source": [
    "large_groups.info()"
   ]
  },
  {
   "cell_type": "code",
   "execution_count": null,
   "metadata": {},
   "outputs": [],
   "source": [
    "import seaborn as sns\n",
    "import matplotlib.pyplot as plt \n",
    "sns.barplot(data=large_groups, x=large_groups.index, y=\"Students\")\n",
    "plt.title(\"Antal studenter i olika program\"); # can also use seaborns methods for this"
   ]
  },
  {
   "cell_type": "code",
   "execution_count": 30,
   "metadata": {},
   "outputs": [
    {
     "data": {
      "text/html": [
       "<div>\n",
       "<style scoped>\n",
       "    .dataframe tbody tr th:only-of-type {\n",
       "        vertical-align: middle;\n",
       "    }\n",
       "\n",
       "    .dataframe tbody tr th {\n",
       "        vertical-align: top;\n",
       "    }\n",
       "\n",
       "    .dataframe thead th {\n",
       "        text-align: right;\n",
       "    }\n",
       "</style>\n",
       "<table border=\"1\" class=\"dataframe\">\n",
       "  <thead>\n",
       "    <tr style=\"text-align: right;\">\n",
       "      <th></th>\n",
       "      <th>FoodCategory</th>\n",
       "      <th>FoodItem</th>\n",
       "      <th>per100grams</th>\n",
       "      <th>Cals_per100grams</th>\n",
       "      <th>KJ_per100grams</th>\n",
       "    </tr>\n",
       "  </thead>\n",
       "  <tbody>\n",
       "    <tr>\n",
       "      <th>0</th>\n",
       "      <td>CannedFruit</td>\n",
       "      <td>Applesauce</td>\n",
       "      <td>100g</td>\n",
       "      <td>62 cal</td>\n",
       "      <td>260 kJ</td>\n",
       "    </tr>\n",
       "    <tr>\n",
       "      <th>1</th>\n",
       "      <td>CannedFruit</td>\n",
       "      <td>Canned Apricots</td>\n",
       "      <td>100g</td>\n",
       "      <td>48 cal</td>\n",
       "      <td>202 kJ</td>\n",
       "    </tr>\n",
       "    <tr>\n",
       "      <th>2</th>\n",
       "      <td>CannedFruit</td>\n",
       "      <td>Canned Blackberries</td>\n",
       "      <td>100g</td>\n",
       "      <td>92 cal</td>\n",
       "      <td>386 kJ</td>\n",
       "    </tr>\n",
       "  </tbody>\n",
       "</table>\n",
       "</div>"
      ],
      "text/plain": [
       "  FoodCategory             FoodItem per100grams Cals_per100grams  \\\n",
       "0  CannedFruit           Applesauce        100g           62 cal   \n",
       "1  CannedFruit      Canned Apricots        100g           48 cal   \n",
       "2  CannedFruit  Canned Blackberries        100g           92 cal   \n",
       "\n",
       "  KJ_per100grams  \n",
       "0         260 kJ  \n",
       "1         202 kJ  \n",
       "2         386 kJ  "
      ]
     },
     "execution_count": 30,
     "metadata": {},
     "output_type": "execute_result"
    }
   ],
   "source": [
    "# Read Excel\n",
    "import pandas as pd \n",
    "import seaborn as sns\n",
    "calories = pd.read_excel(\"../Data/calories.xlsx\")\n",
    "calories.head(3)"
   ]
  },
  {
   "cell_type": "code",
   "execution_count": 31,
   "metadata": {},
   "outputs": [
    {
     "data": {
      "text/html": [
       "<div>\n",
       "<style scoped>\n",
       "    .dataframe tbody tr th:only-of-type {\n",
       "        vertical-align: middle;\n",
       "    }\n",
       "\n",
       "    .dataframe tbody tr th {\n",
       "        vertical-align: top;\n",
       "    }\n",
       "\n",
       "    .dataframe thead th {\n",
       "        text-align: right;\n",
       "    }\n",
       "</style>\n",
       "<table border=\"1\" class=\"dataframe\">\n",
       "  <thead>\n",
       "    <tr style=\"text-align: right;\">\n",
       "      <th></th>\n",
       "      <th>FoodCategory</th>\n",
       "      <th>FoodItem</th>\n",
       "      <th>per100grams</th>\n",
       "      <th>Cals_per100grams</th>\n",
       "      <th>KJ_per100grams</th>\n",
       "    </tr>\n",
       "  </thead>\n",
       "  <tbody>\n",
       "    <tr>\n",
       "      <th>3</th>\n",
       "      <td>CannedFruit</td>\n",
       "      <td>Canned Blueberries</td>\n",
       "      <td>100g</td>\n",
       "      <td>88 cal</td>\n",
       "      <td>370 kJ</td>\n",
       "    </tr>\n",
       "    <tr>\n",
       "      <th>4</th>\n",
       "      <td>CannedFruit</td>\n",
       "      <td>Canned Cherries</td>\n",
       "      <td>100g</td>\n",
       "      <td>54 cal</td>\n",
       "      <td>227 kJ</td>\n",
       "    </tr>\n",
       "    <tr>\n",
       "      <th>5</th>\n",
       "      <td>CannedFruit</td>\n",
       "      <td>Canned Cranberries</td>\n",
       "      <td>100g</td>\n",
       "      <td>178 cal</td>\n",
       "      <td>748 kJ</td>\n",
       "    </tr>\n",
       "    <tr>\n",
       "      <th>6</th>\n",
       "      <td>CannedFruit</td>\n",
       "      <td>Canned Crushed Pineapple</td>\n",
       "      <td>100g</td>\n",
       "      <td>53 cal</td>\n",
       "      <td>223 kJ</td>\n",
       "    </tr>\n",
       "    <tr>\n",
       "      <th>7</th>\n",
       "      <td>CannedFruit</td>\n",
       "      <td>Canned Figs</td>\n",
       "      <td>100g</td>\n",
       "      <td>107 cal</td>\n",
       "      <td>449 kJ</td>\n",
       "    </tr>\n",
       "    <tr>\n",
       "      <th>8</th>\n",
       "      <td>CannedFruit</td>\n",
       "      <td>Canned Fruit Cocktail</td>\n",
       "      <td>100g</td>\n",
       "      <td>81 cal</td>\n",
       "      <td>340 kJ</td>\n",
       "    </tr>\n",
       "  </tbody>\n",
       "</table>\n",
       "</div>"
      ],
      "text/plain": [
       "  FoodCategory                  FoodItem per100grams Cals_per100grams  \\\n",
       "3  CannedFruit        Canned Blueberries        100g           88 cal   \n",
       "4  CannedFruit           Canned Cherries        100g           54 cal   \n",
       "5  CannedFruit        Canned Cranberries        100g          178 cal   \n",
       "6  CannedFruit  Canned Crushed Pineapple        100g           53 cal   \n",
       "7  CannedFruit               Canned Figs        100g          107 cal   \n",
       "8  CannedFruit     Canned Fruit Cocktail        100g           81 cal   \n",
       "\n",
       "  KJ_per100grams  \n",
       "3         370 kJ  \n",
       "4         227 kJ  \n",
       "5         748 kJ  \n",
       "6         223 kJ  \n",
       "7         449 kJ  \n",
       "8         340 kJ  "
      ]
     },
     "execution_count": 31,
     "metadata": {},
     "output_type": "execute_result"
    }
   ],
   "source": [
    "calories.iloc[3:9]"
   ]
  },
  {
   "cell_type": "code",
   "execution_count": 32,
   "metadata": {},
   "outputs": [
    {
     "name": "stdout",
     "output_type": "stream",
     "text": [
      "<class 'pandas.core.frame.DataFrame'>\n",
      "RangeIndex: 2225 entries, 0 to 2224\n",
      "Data columns (total 5 columns):\n",
      " #   Column            Non-Null Count  Dtype \n",
      "---  ------            --------------  ----- \n",
      " 0   FoodCategory      2225 non-null   object\n",
      " 1   FoodItem          2225 non-null   object\n",
      " 2   per100grams       2225 non-null   object\n",
      " 3   Cals_per100grams  2225 non-null   object\n",
      " 4   KJ_per100grams    2225 non-null   object\n",
      "dtypes: object(5)\n",
      "memory usage: 87.0+ KB\n"
     ]
    }
   ],
   "source": [
    "calories.info()"
   ]
  },
  {
   "cell_type": "code",
   "execution_count": 33,
   "metadata": {},
   "outputs": [
    {
     "data": {
      "text/html": [
       "<div>\n",
       "<style scoped>\n",
       "    .dataframe tbody tr th:only-of-type {\n",
       "        vertical-align: middle;\n",
       "    }\n",
       "\n",
       "    .dataframe tbody tr th {\n",
       "        vertical-align: top;\n",
       "    }\n",
       "\n",
       "    .dataframe thead th {\n",
       "        text-align: right;\n",
       "    }\n",
       "</style>\n",
       "<table border=\"1\" class=\"dataframe\">\n",
       "  <thead>\n",
       "    <tr style=\"text-align: right;\">\n",
       "      <th></th>\n",
       "      <th>FoodCategory</th>\n",
       "      <th>FoodItem</th>\n",
       "      <th>per100grams</th>\n",
       "      <th>Cals_per100grams</th>\n",
       "      <th>KJ_per100grams</th>\n",
       "    </tr>\n",
       "  </thead>\n",
       "  <tbody>\n",
       "    <tr>\n",
       "      <th>count</th>\n",
       "      <td>2225</td>\n",
       "      <td>2225</td>\n",
       "      <td>2225</td>\n",
       "      <td>2225</td>\n",
       "      <td>2225</td>\n",
       "    </tr>\n",
       "    <tr>\n",
       "      <th>unique</th>\n",
       "      <td>44</td>\n",
       "      <td>1993</td>\n",
       "      <td>2</td>\n",
       "      <td>524</td>\n",
       "      <td>524</td>\n",
       "    </tr>\n",
       "    <tr>\n",
       "      <th>top</th>\n",
       "      <td>BakingIngredients</td>\n",
       "      <td>Roast Beef</td>\n",
       "      <td>100g</td>\n",
       "      <td>100 cal</td>\n",
       "      <td>420 kJ</td>\n",
       "    </tr>\n",
       "    <tr>\n",
       "      <th>freq</th>\n",
       "      <td>95</td>\n",
       "      <td>4</td>\n",
       "      <td>1802</td>\n",
       "      <td>26</td>\n",
       "      <td>26</td>\n",
       "    </tr>\n",
       "  </tbody>\n",
       "</table>\n",
       "</div>"
      ],
      "text/plain": [
       "             FoodCategory    FoodItem per100grams Cals_per100grams  \\\n",
       "count                2225        2225        2225             2225   \n",
       "unique                 44        1993           2              524   \n",
       "top     BakingIngredients  Roast Beef        100g          100 cal   \n",
       "freq                   95           4        1802               26   \n",
       "\n",
       "       KJ_per100grams  \n",
       "count            2225  \n",
       "unique            524  \n",
       "top            420 kJ  \n",
       "freq               26  "
      ]
     },
     "execution_count": 33,
     "metadata": {},
     "output_type": "execute_result"
    }
   ],
   "source": [
    "calories.describe() # gives statistics on dataframe"
   ]
  },
  {
   "cell_type": "code",
   "execution_count": 34,
   "metadata": {},
   "outputs": [
    {
     "data": {
      "text/plain": [
       "array(['CannedFruit', 'Fruits', 'Tropical&ExoticFruits', 'PotatoProducts',\n",
       "       'Vegetables', 'FastFood', 'Pizza', 'Cheese', 'CreamCheese',\n",
       "       'Milk&DairyProducts', 'SlicedCheese', 'Yogurt', 'Beef&Veal',\n",
       "       'ColdCuts&LunchMeat', 'Meat', 'Offal&Giblets', 'Pork',\n",
       "       'Poultry&Fowl', 'Sausage', 'Venison&Game', 'Cakes&Pies',\n",
       "       'Candy&Sweets', 'IceCream', '(Fruit)Juices',\n",
       "       'AlcoholicDrinks&Beverages', 'Beer',\n",
       "       'Non-AlcoholicDrinks&Beverages', 'Soda&SoftDrinks', 'Wine',\n",
       "       'CerealProducts', 'Oatmeal,Muesli&Cereals', 'Pasta&Noodles',\n",
       "       'Dishes&Meals', 'Soups', 'Legumes', 'Nuts&Seeds', 'Oils&Fats',\n",
       "       'VegetableOils', 'BakingIngredients', 'Fish&Seafood',\n",
       "       'Herbs&Spices', 'Pastries,Breads&Rolls', 'Sauces&Dressings',\n",
       "       'Spreads'], dtype=object)"
      ]
     },
     "execution_count": 34,
     "metadata": {},
     "output_type": "execute_result"
    }
   ],
   "source": [
    "calories[\"FoodCategory\"].unique()"
   ]
  },
  {
   "cell_type": "code",
   "execution_count": 35,
   "metadata": {},
   "outputs": [
    {
     "data": {
      "text/plain": [
       "Index(['FoodCategory', 'FoodItem', 'per100grams', 'Cals_per100grams',\n",
       "       'KJ_per100grams'],\n",
       "      dtype='object')"
      ]
     },
     "execution_count": 35,
     "metadata": {},
     "output_type": "execute_result"
    }
   ],
   "source": [
    "calories.columns"
   ]
  },
  {
   "cell_type": "code",
   "execution_count": 36,
   "metadata": {},
   "outputs": [
    {
     "data": {
      "text/plain": [
       "array(['100g', '100ml'], dtype=object)"
      ]
     },
     "execution_count": 36,
     "metadata": {},
     "output_type": "execute_result"
    }
   ],
   "source": [
    "calories[\"per100grams\"].unique()"
   ]
  },
  {
   "cell_type": "markdown",
   "metadata": {},
   "source": [
    "## Data cleaning\n",
    "\n",
    "- convert String to int\n",
    "- change column names\n",
    "- separate liquids and solids"
   ]
  },
  {
   "cell_type": "code",
   "execution_count": 37,
   "metadata": {},
   "outputs": [
    {
     "data": {
      "text/html": [
       "<div>\n",
       "<style scoped>\n",
       "    .dataframe tbody tr th:only-of-type {\n",
       "        vertical-align: middle;\n",
       "    }\n",
       "\n",
       "    .dataframe tbody tr th {\n",
       "        vertical-align: top;\n",
       "    }\n",
       "\n",
       "    .dataframe thead th {\n",
       "        text-align: right;\n",
       "    }\n",
       "</style>\n",
       "<table border=\"1\" class=\"dataframe\">\n",
       "  <thead>\n",
       "    <tr style=\"text-align: right;\">\n",
       "      <th></th>\n",
       "      <th>FoodCategory</th>\n",
       "      <th>FoodItem</th>\n",
       "      <th>per100</th>\n",
       "      <th>Calories</th>\n",
       "      <th>KJ_per100grams</th>\n",
       "    </tr>\n",
       "  </thead>\n",
       "  <tbody>\n",
       "    <tr>\n",
       "      <th>2222</th>\n",
       "      <td>Spreads</td>\n",
       "      <td>Unsalted Butter</td>\n",
       "      <td>100g</td>\n",
       "      <td>717 cal</td>\n",
       "      <td>3011 kJ</td>\n",
       "    </tr>\n",
       "    <tr>\n",
       "      <th>2223</th>\n",
       "      <td>Spreads</td>\n",
       "      <td>Vegemite</td>\n",
       "      <td>100g</td>\n",
       "      <td>180 cal</td>\n",
       "      <td>756 kJ</td>\n",
       "    </tr>\n",
       "    <tr>\n",
       "      <th>2224</th>\n",
       "      <td>Spreads</td>\n",
       "      <td>Wild Honey</td>\n",
       "      <td>100g</td>\n",
       "      <td>286 cal</td>\n",
       "      <td>1201 kJ</td>\n",
       "    </tr>\n",
       "  </tbody>\n",
       "</table>\n",
       "</div>"
      ],
      "text/plain": [
       "     FoodCategory         FoodItem per100 Calories KJ_per100grams\n",
       "2222      Spreads  Unsalted Butter   100g  717 cal        3011 kJ\n",
       "2223      Spreads         Vegemite   100g  180 cal         756 kJ\n",
       "2224      Spreads       Wild Honey   100g  286 cal        1201 kJ"
      ]
     },
     "execution_count": 37,
     "metadata": {},
     "output_type": "execute_result"
    }
   ],
   "source": [
    "calories = calories.rename(dict(Cals_per100grams = \"Calories\", per100grams=\"per100\"), axis=\"columns\")\n",
    "calories.tail(3)"
   ]
  },
  {
   "cell_type": "code",
   "execution_count": 38,
   "metadata": {},
   "outputs": [
    {
     "data": {
      "text/html": [
       "<div>\n",
       "<style scoped>\n",
       "    .dataframe tbody tr th:only-of-type {\n",
       "        vertical-align: middle;\n",
       "    }\n",
       "\n",
       "    .dataframe tbody tr th {\n",
       "        vertical-align: top;\n",
       "    }\n",
       "\n",
       "    .dataframe thead th {\n",
       "        text-align: right;\n",
       "    }\n",
       "</style>\n",
       "<table border=\"1\" class=\"dataframe\">\n",
       "  <thead>\n",
       "    <tr style=\"text-align: right;\">\n",
       "      <th></th>\n",
       "      <th>FoodCategory</th>\n",
       "      <th>FoodItem</th>\n",
       "      <th>per100</th>\n",
       "      <th>Calories</th>\n",
       "      <th>KJ_per100grams</th>\n",
       "    </tr>\n",
       "  </thead>\n",
       "  <tbody>\n",
       "    <tr>\n",
       "      <th>0</th>\n",
       "      <td>CannedFruit</td>\n",
       "      <td>Applesauce</td>\n",
       "      <td>100g</td>\n",
       "      <td>62</td>\n",
       "      <td>260 kJ</td>\n",
       "    </tr>\n",
       "    <tr>\n",
       "      <th>1</th>\n",
       "      <td>CannedFruit</td>\n",
       "      <td>Canned Apricots</td>\n",
       "      <td>100g</td>\n",
       "      <td>48</td>\n",
       "      <td>202 kJ</td>\n",
       "    </tr>\n",
       "    <tr>\n",
       "      <th>2</th>\n",
       "      <td>CannedFruit</td>\n",
       "      <td>Canned Blackberries</td>\n",
       "      <td>100g</td>\n",
       "      <td>92</td>\n",
       "      <td>386 kJ</td>\n",
       "    </tr>\n",
       "    <tr>\n",
       "      <th>3</th>\n",
       "      <td>CannedFruit</td>\n",
       "      <td>Canned Blueberries</td>\n",
       "      <td>100g</td>\n",
       "      <td>88</td>\n",
       "      <td>370 kJ</td>\n",
       "    </tr>\n",
       "    <tr>\n",
       "      <th>4</th>\n",
       "      <td>CannedFruit</td>\n",
       "      <td>Canned Cherries</td>\n",
       "      <td>100g</td>\n",
       "      <td>54</td>\n",
       "      <td>227 kJ</td>\n",
       "    </tr>\n",
       "  </tbody>\n",
       "</table>\n",
       "</div>"
      ],
      "text/plain": [
       "  FoodCategory             FoodItem per100  Calories KJ_per100grams\n",
       "0  CannedFruit           Applesauce   100g        62         260 kJ\n",
       "1  CannedFruit      Canned Apricots   100g        48         202 kJ\n",
       "2  CannedFruit  Canned Blackberries   100g        92         386 kJ\n",
       "3  CannedFruit   Canned Blueberries   100g        88         370 kJ\n",
       "4  CannedFruit      Canned Cherries   100g        54         227 kJ"
      ]
     },
     "execution_count": 38,
     "metadata": {},
     "output_type": "execute_result"
    }
   ],
   "source": [
    "calories[\"Calories\"] = calories[\"Calories\"].str[:-3].astype(int)\n",
    "calories.head()"
   ]
  },
  {
   "cell_type": "code",
   "execution_count": 40,
   "metadata": {},
   "outputs": [
    {
     "data": {
      "text/plain": [
       "100g     1802\n",
       "100ml     423\n",
       "Name: per100, dtype: int64"
      ]
     },
     "execution_count": 40,
     "metadata": {},
     "output_type": "execute_result"
    }
   ],
   "source": [
    "calories[\"per100\"].value_counts()"
   ]
  },
  {
   "cell_type": "code",
   "execution_count": 46,
   "metadata": {},
   "outputs": [
    {
     "data": {
      "text/html": [
       "<div>\n",
       "<style scoped>\n",
       "    .dataframe tbody tr th:only-of-type {\n",
       "        vertical-align: middle;\n",
       "    }\n",
       "\n",
       "    .dataframe tbody tr th {\n",
       "        vertical-align: top;\n",
       "    }\n",
       "\n",
       "    .dataframe thead th {\n",
       "        text-align: right;\n",
       "    }\n",
       "</style>\n",
       "<table border=\"1\" class=\"dataframe\">\n",
       "  <thead>\n",
       "    <tr style=\"text-align: right;\">\n",
       "      <th></th>\n",
       "      <th>FoodCategory</th>\n",
       "      <th>FoodItem</th>\n",
       "      <th>per100</th>\n",
       "      <th>Calories</th>\n",
       "      <th>KJ_per100grams</th>\n",
       "    </tr>\n",
       "  </thead>\n",
       "  <tbody>\n",
       "    <tr>\n",
       "      <th>409</th>\n",
       "      <td>Milk&amp;DairyProducts</td>\n",
       "      <td>Almond Milk</td>\n",
       "      <td>100ml</td>\n",
       "      <td>17</td>\n",
       "      <td>71 kJ</td>\n",
       "    </tr>\n",
       "    <tr>\n",
       "      <th>410</th>\n",
       "      <td>Milk&amp;DairyProducts</td>\n",
       "      <td>Buttermilk</td>\n",
       "      <td>100ml</td>\n",
       "      <td>62</td>\n",
       "      <td>260 kJ</td>\n",
       "    </tr>\n",
       "    <tr>\n",
       "      <th>412</th>\n",
       "      <td>Milk&amp;DairyProducts</td>\n",
       "      <td>Coconut Milk</td>\n",
       "      <td>100ml</td>\n",
       "      <td>230</td>\n",
       "      <td>966 kJ</td>\n",
       "    </tr>\n",
       "    <tr>\n",
       "      <th>422</th>\n",
       "      <td>Milk&amp;DairyProducts</td>\n",
       "      <td>Hot Chocolate</td>\n",
       "      <td>100ml</td>\n",
       "      <td>89</td>\n",
       "      <td>374 kJ</td>\n",
       "    </tr>\n",
       "    <tr>\n",
       "      <th>423</th>\n",
       "      <td>Milk&amp;DairyProducts</td>\n",
       "      <td>Kefir</td>\n",
       "      <td>100ml</td>\n",
       "      <td>55</td>\n",
       "      <td>231 kJ</td>\n",
       "    </tr>\n",
       "  </tbody>\n",
       "</table>\n",
       "</div>"
      ],
      "text/plain": [
       "           FoodCategory       FoodItem per100  Calories KJ_per100grams\n",
       "409  Milk&DairyProducts    Almond Milk  100ml        17          71 kJ\n",
       "410  Milk&DairyProducts     Buttermilk  100ml        62         260 kJ\n",
       "412  Milk&DairyProducts   Coconut Milk  100ml       230         966 kJ\n",
       "422  Milk&DairyProducts  Hot Chocolate  100ml        89         374 kJ\n",
       "423  Milk&DairyProducts          Kefir  100ml        55         231 kJ"
      ]
     },
     "execution_count": 46,
     "metadata": {},
     "output_type": "execute_result"
    }
   ],
   "source": [
    "solids = calories[calories[\"per100\"] == \"100g\"]\n",
    "liquids = calories[calories[\"per100\"] == \"100ml\"]\n",
    "liquids.head()"
   ]
  },
  {
   "cell_type": "markdown",
   "metadata": {},
   "source": [
    "## Find top 5 categories with highest calories"
   ]
  },
  {
   "cell_type": "code",
   "execution_count": 50,
   "metadata": {},
   "outputs": [
    {
     "data": {
      "text/html": [
       "<div>\n",
       "<style scoped>\n",
       "    .dataframe tbody tr th:only-of-type {\n",
       "        vertical-align: middle;\n",
       "    }\n",
       "\n",
       "    .dataframe tbody tr th {\n",
       "        vertical-align: top;\n",
       "    }\n",
       "\n",
       "    .dataframe thead th {\n",
       "        text-align: right;\n",
       "    }\n",
       "</style>\n",
       "<table border=\"1\" class=\"dataframe\">\n",
       "  <thead>\n",
       "    <tr style=\"text-align: right;\">\n",
       "      <th></th>\n",
       "      <th>FoodCategory</th>\n",
       "      <th>FoodItem</th>\n",
       "      <th>per100</th>\n",
       "      <th>Calories</th>\n",
       "      <th>KJ_per100grams</th>\n",
       "    </tr>\n",
       "  </thead>\n",
       "  <tbody>\n",
       "    <tr>\n",
       "      <th>1621</th>\n",
       "      <td>Soups</td>\n",
       "      <td>Goulash</td>\n",
       "      <td>100g</td>\n",
       "      <td>1009</td>\n",
       "      <td>4238 kJ</td>\n",
       "    </tr>\n",
       "    <tr>\n",
       "      <th>1761</th>\n",
       "      <td>Oils&amp;Fats</td>\n",
       "      <td>Lard</td>\n",
       "      <td>100g</td>\n",
       "      <td>902</td>\n",
       "      <td>3788 kJ</td>\n",
       "    </tr>\n",
       "    <tr>\n",
       "      <th>528</th>\n",
       "      <td>Beef&amp;Veal</td>\n",
       "      <td>Beef Tallow</td>\n",
       "      <td>100g</td>\n",
       "      <td>902</td>\n",
       "      <td>3788 kJ</td>\n",
       "    </tr>\n",
       "    <tr>\n",
       "      <th>1756</th>\n",
       "      <td>Oils&amp;Fats</td>\n",
       "      <td>Goose Fat</td>\n",
       "      <td>100g</td>\n",
       "      <td>898</td>\n",
       "      <td>3772 kJ</td>\n",
       "    </tr>\n",
       "    <tr>\n",
       "      <th>599</th>\n",
       "      <td>Meat</td>\n",
       "      <td>Chicken Fat</td>\n",
       "      <td>100g</td>\n",
       "      <td>898</td>\n",
       "      <td>3772 kJ</td>\n",
       "    </tr>\n",
       "  </tbody>\n",
       "</table>\n",
       "</div>"
      ],
      "text/plain": [
       "     FoodCategory     FoodItem per100  Calories KJ_per100grams\n",
       "1621        Soups      Goulash   100g      1009        4238 kJ\n",
       "1761    Oils&Fats         Lard   100g       902        3788 kJ\n",
       "528     Beef&Veal  Beef Tallow   100g       902        3788 kJ\n",
       "1756    Oils&Fats    Goose Fat   100g       898        3772 kJ\n",
       "599          Meat  Chicken Fat   100g       898        3772 kJ"
      ]
     },
     "execution_count": 50,
     "metadata": {},
     "output_type": "execute_result"
    }
   ],
   "source": [
    "solids_top5 = solids.sort_values(by=\"Calories\", ascending=False).head()\n",
    "solids_top5"
   ]
  },
  {
   "cell_type": "code",
   "execution_count": 51,
   "metadata": {},
   "outputs": [
    {
     "data": {
      "text/html": [
       "<div>\n",
       "<style scoped>\n",
       "    .dataframe tbody tr th:only-of-type {\n",
       "        vertical-align: middle;\n",
       "    }\n",
       "\n",
       "    .dataframe tbody tr th {\n",
       "        vertical-align: top;\n",
       "    }\n",
       "\n",
       "    .dataframe thead th {\n",
       "        text-align: right;\n",
       "    }\n",
       "</style>\n",
       "<table border=\"1\" class=\"dataframe\">\n",
       "  <thead>\n",
       "    <tr style=\"text-align: right;\">\n",
       "      <th></th>\n",
       "      <th>FoodCategory</th>\n",
       "      <th>FoodItem</th>\n",
       "      <th>per100</th>\n",
       "      <th>Calories</th>\n",
       "      <th>KJ_per100grams</th>\n",
       "    </tr>\n",
       "  </thead>\n",
       "  <tbody>\n",
       "    <tr>\n",
       "      <th>1751</th>\n",
       "      <td>Oils&amp;Fats</td>\n",
       "      <td>Cod Liver Oil</td>\n",
       "      <td>100ml</td>\n",
       "      <td>1000</td>\n",
       "      <td>4200 kJ</td>\n",
       "    </tr>\n",
       "    <tr>\n",
       "      <th>1808</th>\n",
       "      <td>VegetableOils</td>\n",
       "      <td>Wheat Germ Oil</td>\n",
       "      <td>100ml</td>\n",
       "      <td>929</td>\n",
       "      <td>3902 kJ</td>\n",
       "    </tr>\n",
       "    <tr>\n",
       "      <th>1800</th>\n",
       "      <td>VegetableOils</td>\n",
       "      <td>Salmon Oil</td>\n",
       "      <td>100ml</td>\n",
       "      <td>911</td>\n",
       "      <td>3826 kJ</td>\n",
       "    </tr>\n",
       "    <tr>\n",
       "      <th>1789</th>\n",
       "      <td>VegetableOils</td>\n",
       "      <td>Menhaden Oil</td>\n",
       "      <td>100ml</td>\n",
       "      <td>911</td>\n",
       "      <td>3826 kJ</td>\n",
       "    </tr>\n",
       "    <tr>\n",
       "      <th>1759</th>\n",
       "      <td>Oils&amp;Fats</td>\n",
       "      <td>Herring Oil</td>\n",
       "      <td>100ml</td>\n",
       "      <td>902</td>\n",
       "      <td>3788 kJ</td>\n",
       "    </tr>\n",
       "  </tbody>\n",
       "</table>\n",
       "</div>"
      ],
      "text/plain": [
       "       FoodCategory        FoodItem per100  Calories KJ_per100grams\n",
       "1751      Oils&Fats   Cod Liver Oil  100ml      1000        4200 kJ\n",
       "1808  VegetableOils  Wheat Germ Oil  100ml       929        3902 kJ\n",
       "1800  VegetableOils      Salmon Oil  100ml       911        3826 kJ\n",
       "1789  VegetableOils    Menhaden Oil  100ml       911        3826 kJ\n",
       "1759      Oils&Fats     Herring Oil  100ml       902        3788 kJ"
      ]
     },
     "execution_count": 51,
     "metadata": {},
     "output_type": "execute_result"
    }
   ],
   "source": [
    "liquids_top5 = liquids.sort_values(by=\"Calories\", ascending=False).head()\n",
    "liquids_top5"
   ]
  },
  {
   "cell_type": "code",
   "execution_count": 59,
   "metadata": {},
   "outputs": [
    {
     "data": {
      "text/plain": [
       "<AxesSubplot:xlabel='FoodItem', ylabel='Calories'>"
      ]
     },
     "execution_count": 59,
     "metadata": {},
     "output_type": "execute_result"
    },
    {
     "data": {
      "image/png": "[encoded data removed]",
      "text/plain": [
       "<Figure size 1200x400 with 2 Axes>"
      ]
     },
     "metadata": {
      "needs_background": "light"
     },
     "output_type": "display_data"
    }
   ],
   "source": [
    "import matplotlib.pyplot as plt \n",
    "fig, ax = plt.subplots(1,2, dpi=100, figsize=(12,4))\n",
    "sns.barplot(data=solids_top5, x=\"FoodItem\", y=\"Calories\", ax=ax[0])\n",
    "sns.barplot(data=liquids_top5, x=\"FoodItem\", y=\"Calories\", ax=ax[1])"
   ]
  }
 ],
 "metadata": {
  "interpreter": {
   "hash": "546cc3b3ce5360cbdb485aa0b0c3c2439fd61639081f0e14348bb4ac5b946eda"
  },
  "kernelspec": {
   "display_name": "Python 3.9.6 64-bit ('Databehandling-Kokchun-Giang-4oaWqXcr': pipenv)",
   "name": "python3"
  },
  "language_info": {
   "codemirror_mode": {
    "name": "ipython",
    "version": 3
   },
   "file_extension": ".py",
   "mimetype": "text/x-python",
   "name": "python",
   "nbconvert_exporter": "python",
   "pygments_lexer": "ipython3",
   "version": "3.9.6"
  },
  "orig_nbformat": 4
 },
 "nbformat": 4,
 "nbformat_minor": 2
}
