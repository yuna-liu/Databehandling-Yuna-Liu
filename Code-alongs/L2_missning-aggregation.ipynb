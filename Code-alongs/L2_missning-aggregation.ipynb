{
 "cells": [
  {
   "cell_type": "markdown",
   "metadata": {},
   "source": [
    "## Igår: \n",
    "setup - repo, folderstruktur, installationer (numpy, pandas, seaborn, matplotlib, openpyxl, ipykernel) \n",
    "- Pandas och Seaborn\n",
    "- Series object\n",
    "- DataFrame object\n",
    "- Index object\n",
    "- Selections, filtering, masking, rename, sorting ...\n",
    "- Summativa beskrivningar av data -> info(), describe(), unique(), head(), tail()\n",
    "- Visualiserar mha Seaborn"
   ]
  },
  {
   "cell_type": "markdown",
   "metadata": {},
   "source": [
    "---\n",
    "# Lecture notes - Pandas - missing data & aggregations\n",
    "\n",
    "---\n",
    "This is the lecture note for **Pandas missing data & aggregations** - but it's built upon contents from previous course: \n",
    "- Python programming\n",
    "\n",
    "Read more \n",
    "\n",
    "- [documentation - read_csv](https://pandas.pydata.org/pandas-docs/stable/reference/api/pandas.read_csv.html)\n",
    "\n",
    "- [documentation - aggregate](https://pandas.pydata.org/docs/reference/api/pandas.DataFrame.aggregate.html)\n",
    "\n",
    "- [documentation - groupby](https://pandas.pydata.org/docs/reference/api/pandas.DataFrame.groupby.html)\n",
    "\n",
    "- [documentation - missing values](https://pandas.pydata.org/pandas-docs/stable/user_guide/missing_data.html)\n",
    "---"
   ]
  },
  {
   "cell_type": "markdown",
   "metadata": {},
   "source": [
    "## Setup\n",
    "- create dummy DataFrame\n",
    "- it's very useful to create dummy DataFrame in order to test and learn Pandas methods"
   ]
  },
  {
   "cell_type": "code",
   "execution_count": 16,
   "metadata": {},
   "outputs": [
    {
     "name": "stdout",
     "output_type": "stream",
     "text": [
      "[[3 6 1 7 1 9 1 1]\n",
      " [7 2 5 8 8 3 7 3]\n",
      " [6 6 3 7 3 8 4 1]\n",
      " [4 7 4 6 9 1 5 7]\n",
      " [1 4 6 2 5 1 6 6]\n",
      " [4 8 4 8 8 5 4 2]\n",
      " [3 3 4 4 5 4 8 6]\n",
      " [6 8 7 8 2 9 1 8]]\n",
      "index [16 50 17 23 56 57 31 53 60 45]\n",
      "Flattens the matrix: [3 6 1 7 1 9 1 1 7 2 5 8 8 3 7 3 6 6 3 7 3 8 4 1 4 7 4 6 9 1 5 7 1 4 6 2 5\n",
      " 1 6 6 4 8 4 8 8 5 4 2 3 3 4 4 5 4 8 6 6 8 7 8 2 9 1 8]\n",
      "[[ 3.  6.  1.  7.  1.  9.  1.  1.]\n",
      " [ 7.  2.  5.  8.  8.  3.  7.  3.]\n",
      " [nan nan  3.  7.  3.  8.  4. nan]\n",
      " [ 4.  7.  4.  6.  9.  1.  5. nan]\n",
      " [ 1.  4.  6.  2.  5.  1.  6.  6.]\n",
      " [ 4.  8.  4.  8.  8. nan  4.  2.]\n",
      " [ 3.  3. nan  4.  5. nan  8.  6.]\n",
      " [nan nan  7.  8. nan  9.  1.  8.]]\n"
     ]
    }
   ],
   "source": [
    "import numpy as np \n",
    "import pandas as pd\n",
    "#np.random.seed(42)\n",
    "\n",
    "n = 8\n",
    "random_matrix = np.random.randint(1,10, (n,n))\n",
    "#It returns an array of specified shape and fills it with random integers from low (inclusive) to high (exclusive), i.e. in the interval [low, high).\n",
    "print(random_matrix)\n",
    "index = np.random.choice(random_matrix.size, 10, replace = False)\n",
    "#random.choice(a, size=None, replace=True, p=None). Generates a random sample from a given 1-D array: a\n",
    "print(f\"index {index}\")\n",
    "print(f\"Flattens the matrix: {random_matrix.ravel()}\")\n",
    "\n",
    "random_matrix = random_matrix*1.0 # to convert it to float as np.nan is float\n",
    "random_matrix.ravel()[index] = None # returns contiguous flattened array\n",
    "# numeric containers always use NaN \n",
    "print(random_matrix)"
   ]
  }
 ],
 "metadata": {
  "interpreter": {
   "hash": "6e196819d036a3086e143cc894c3d3ad00d957706e86284532ecdff9f0b155cd"
  },
  "kernelspec": {
   "display_name": "Python 3.9.6 64-bit ('Databehandling-Yuna-Liu-cbRWZUHp': pipenv)",
   "name": "python3"
  },
  "language_info": {
   "codemirror_mode": {
    "name": "ipython",
    "version": 3
   },
   "file_extension": ".py",
   "mimetype": "text/x-python",
   "name": "python",
   "nbconvert_exporter": "python",
   "pygments_lexer": "ipython3",
   "version": "3.9.6"
  },
  "orig_nbformat": 4
 },
 "nbformat": 4,
 "nbformat_minor": 2
}
