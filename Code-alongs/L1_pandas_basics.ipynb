{
 "cells": [
  {
   "cell_type": "markdown",
   "metadata": {},
   "source": [
    "## Setup\n",
    "- 1. Create a new repository: public, Add a README file, Add .gitgnore: python\n",
    "- 2. Open in github desktop, choose clone. File should cloned in my data. \n",
    "- 3. Tap Pipenv shell in terminal \n",
    "- 4. Push to github: pipfile init \n",
    "- 5. In terminal: pipenv install numpy pandas seaborn matplotlib \n",
    "- 6. In terminal: pipenv install ipykernel \n",
    "- 7. Under Pipfile, it shows the packages and their versions that installed. "
   ]
  },
  {
   "cell_type": "code",
   "execution_count": 42,
   "metadata": {},
   "outputs": [],
   "source": [
    "import pandas as pd\n",
    "import numpy as np\n",
    "import seaborn as sns\n",
    "import matplotlib.pyplot as plt"
   ]
  },
  {
   "cell_type": "markdown",
   "metadata": {},
   "source": [
    "## Intro till Pandas\n",
    "- Series object\n",
    "- DataFrame object"
   ]
  },
  {
   "cell_type": "code",
   "execution_count": 8,
   "metadata": {},
   "outputs": [
    {
     "data": {
      "text/plain": [
       "AI      25\n",
       "NET     30\n",
       "APP     27\n",
       "Java    23\n",
       "dtype: int64"
      ]
     },
     "execution_count": 8,
     "metadata": {},
     "output_type": "execute_result"
    }
   ],
   "source": [
    "import pandas as pd\n",
    "\n",
    "data = dict(AI = 25, NET = 30, APP = 27, Java = 23)\n",
    "#data  #{'AI': 25, 'NET': 30, 'APP': 27, 'Java': 23}\n",
    "series = pd.Series(data=data)\n",
    "series"
   ]
  },
  {
   "cell_type": "code",
   "execution_count": 9,
   "metadata": {},
   "outputs": [
    {
     "data": {
      "text/plain": [
       "AI      25\n",
       "NET     30\n",
       "APP     27\n",
       "Java    23\n",
       "dtype: object"
      ]
     },
     "execution_count": 9,
     "metadata": {},
     "output_type": "execute_result"
    }
   ],
   "source": [
    "data2 = dict(AI = \"25\", NET = 30, APP = 27, Java = 23)\n",
    "series2 = pd.Series(data=data2)\n",
    "series2"
   ]
  },
  {
   "cell_type": "code",
   "execution_count": 14,
   "metadata": {},
   "outputs": [
    {
     "name": "stdout",
     "output_type": "stream",
     "text": [
      "series[0]: 25\n",
      "series[-1]: 23\n",
      "series.keys: Index(['AI', 'NET', 'APP', 'Java'], dtype='object')\n",
      "series.keys[-2]: APP\n"
     ]
    }
   ],
   "source": [
    "# extracting values\n",
    "print(f\"series[0]: {series[0]}\")\n",
    "print(f\"series[-1]: {series[-1]}\")\n",
    "\n",
    "# extracting keys\n",
    "print(f\"series.keys: {series.keys()}\")\n",
    "print(f\"series.keys[-2]: {series.keys()[-2]}\")"
   ]
  },
  {
   "cell_type": "markdown",
   "metadata": {},
   "source": [
    "## DataFrame"
   ]
  },
  {
   "cell_type": "code",
   "execution_count": 17,
   "metadata": {},
   "outputs": [
    {
     "data": {
      "text/html": [
       "<div>\n",
       "<style scoped>\n",
       "    .dataframe tbody tr th:only-of-type {\n",
       "        vertical-align: middle;\n",
       "    }\n",
       "\n",
       "    .dataframe tbody tr th {\n",
       "        vertical-align: top;\n",
       "    }\n",
       "\n",
       "    .dataframe thead th {\n",
       "        text-align: right;\n",
       "    }\n",
       "</style>\n",
       "<table border=\"1\" class=\"dataframe\">\n",
       "  <thead>\n",
       "    <tr style=\"text-align: right;\">\n",
       "      <th></th>\n",
       "      <th>0</th>\n",
       "    </tr>\n",
       "  </thead>\n",
       "  <tbody>\n",
       "    <tr>\n",
       "      <th>AI</th>\n",
       "      <td>25</td>\n",
       "    </tr>\n",
       "    <tr>\n",
       "      <th>NET</th>\n",
       "      <td>30</td>\n",
       "    </tr>\n",
       "    <tr>\n",
       "      <th>APP</th>\n",
       "      <td>27</td>\n",
       "    </tr>\n",
       "    <tr>\n",
       "      <th>Java</th>\n",
       "      <td>23</td>\n",
       "    </tr>\n",
       "  </tbody>\n",
       "</table>\n",
       "</div>"
      ],
      "text/plain": [
       "       0\n",
       "AI    25\n",
       "NET   30\n",
       "APP   27\n",
       "Java  23"
      ]
     },
     "execution_count": 17,
     "metadata": {},
     "output_type": "execute_result"
    }
   ],
   "source": [
    "pf = pd.DataFrame(series)\n",
    "#print(pf)\n",
    "pf"
   ]
  },
  {
   "cell_type": "code",
   "execution_count": 19,
   "metadata": {},
   "outputs": [
    {
     "data": {
      "text/html": [
       "<div>\n",
       "<style scoped>\n",
       "    .dataframe tbody tr th:only-of-type {\n",
       "        vertical-align: middle;\n",
       "    }\n",
       "\n",
       "    .dataframe tbody tr th {\n",
       "        vertical-align: top;\n",
       "    }\n",
       "\n",
       "    .dataframe thead th {\n",
       "        text-align: right;\n",
       "    }\n",
       "</style>\n",
       "<table border=\"1\" class=\"dataframe\">\n",
       "  <thead>\n",
       "    <tr style=\"text-align: right;\">\n",
       "      <th></th>\n",
       "      <th>Number students</th>\n",
       "    </tr>\n",
       "  </thead>\n",
       "  <tbody>\n",
       "    <tr>\n",
       "      <th>AI</th>\n",
       "      <td>25</td>\n",
       "    </tr>\n",
       "    <tr>\n",
       "      <th>NET</th>\n",
       "      <td>30</td>\n",
       "    </tr>\n",
       "    <tr>\n",
       "      <th>APP</th>\n",
       "      <td>27</td>\n",
       "    </tr>\n",
       "    <tr>\n",
       "      <th>Java</th>\n",
       "      <td>23</td>\n",
       "    </tr>\n",
       "  </tbody>\n",
       "</table>\n",
       "</div>"
      ],
      "text/plain": [
       "      Number students\n",
       "AI                 25\n",
       "NET                30\n",
       "APP                27\n",
       "Java               23"
      ]
     },
     "execution_count": 19,
     "metadata": {},
     "output_type": "execute_result"
    }
   ],
   "source": [
    "pf = pd.DataFrame(series, columns=(\"Number students\",))  #\",\" is compulsory\n",
    "#print(pf)\n",
    "pf"
   ]
  },
  {
   "cell_type": "code",
   "execution_count": 24,
   "metadata": {},
   "outputs": [
    {
     "data": {
      "text/html": [
       "<div>\n",
       "<style scoped>\n",
       "    .dataframe tbody tr th:only-of-type {\n",
       "        vertical-align: middle;\n",
       "    }\n",
       "\n",
       "    .dataframe tbody tr th {\n",
       "        vertical-align: top;\n",
       "    }\n",
       "\n",
       "    .dataframe thead th {\n",
       "        text-align: right;\n",
       "    }\n",
       "</style>\n",
       "<table border=\"1\" class=\"dataframe\">\n",
       "  <thead>\n",
       "    <tr style=\"text-align: right;\">\n",
       "      <th></th>\n",
       "      <th>Students</th>\n",
       "      <th>Language</th>\n",
       "    </tr>\n",
       "  </thead>\n",
       "  <tbody>\n",
       "    <tr>\n",
       "      <th>AI</th>\n",
       "      <td>25</td>\n",
       "      <td>Python</td>\n",
       "    </tr>\n",
       "    <tr>\n",
       "      <th>NET</th>\n",
       "      <td>30</td>\n",
       "      <td>C#</td>\n",
       "    </tr>\n",
       "    <tr>\n",
       "      <th>APP</th>\n",
       "      <td>27</td>\n",
       "      <td>Kotlin</td>\n",
       "    </tr>\n",
       "    <tr>\n",
       "      <th>Java</th>\n",
       "      <td>23</td>\n",
       "      <td>JAVA</td>\n",
       "    </tr>\n",
       "  </tbody>\n",
       "</table>\n",
       "</div>"
      ],
      "text/plain": [
       "      Students Language\n",
       "AI          25   Python\n",
       "NET         30       C#\n",
       "APP         27   Kotlin\n",
       "Java        23     JAVA"
      ]
     },
     "execution_count": 24,
     "metadata": {},
     "output_type": "execute_result"
    }
   ],
   "source": [
    "languages = pd.Series(dict(AI=\"Python\", NET =\"C#\", APP=\"Kotlin\", Java=\"JAVA\"))\n",
    "df = pd.DataFrame({\"Students\":series, \"Language\":languages})\n",
    "df"
   ]
  },
  {
   "cell_type": "code",
   "execution_count": 25,
   "metadata": {},
   "outputs": [
    {
     "data": {
      "text/plain": [
       "Index(['AI', 'NET', 'APP', 'Java'], dtype='object')"
      ]
     },
     "execution_count": 25,
     "metadata": {},
     "output_type": "execute_result"
    }
   ],
   "source": [
    "df.index # komma åt index"
   ]
  },
  {
   "cell_type": "markdown",
   "metadata": {},
   "source": [
    "## Data selection"
   ]
  },
  {
   "cell_type": "code",
   "execution_count": 30,
   "metadata": {},
   "outputs": [
    {
     "data": {
      "text/plain": [
       "AI      25\n",
       "NET     30\n",
       "APP     27\n",
       "Java    23\n",
       "Name: Students, dtype: int64"
      ]
     },
     "execution_count": 30,
     "metadata": {},
     "output_type": "execute_result"
    }
   ],
   "source": [
    "df.Students   # gets a Series with attribute-approach, risk finns if the key is sum"
   ]
  },
  {
   "cell_type": "code",
   "execution_count": 32,
   "metadata": {},
   "outputs": [
    {
     "data": {
      "text/plain": [
       "AI      25\n",
       "NET     30\n",
       "APP     27\n",
       "Java    23\n",
       "Name: Students, dtype: int64"
      ]
     },
     "execution_count": 32,
     "metadata": {},
     "output_type": "execute_result"
    }
   ],
   "source": [
    "df[\"Students\"]  # gets a Series with dictionary-keys approach (__getitem__())"
   ]
  },
  {
   "cell_type": "code",
   "execution_count": 36,
   "metadata": {},
   "outputs": [
    {
     "data": {
      "text/html": [
       "<div>\n",
       "<style scoped>\n",
       "    .dataframe tbody tr th:only-of-type {\n",
       "        vertical-align: middle;\n",
       "    }\n",
       "\n",
       "    .dataframe tbody tr th {\n",
       "        vertical-align: top;\n",
       "    }\n",
       "\n",
       "    .dataframe thead th {\n",
       "        text-align: right;\n",
       "    }\n",
       "</style>\n",
       "<table border=\"1\" class=\"dataframe\">\n",
       "  <thead>\n",
       "    <tr style=\"text-align: right;\">\n",
       "      <th></th>\n",
       "      <th>Language</th>\n",
       "      <th>Students</th>\n",
       "    </tr>\n",
       "  </thead>\n",
       "  <tbody>\n",
       "    <tr>\n",
       "      <th>AI</th>\n",
       "      <td>Python</td>\n",
       "      <td>25</td>\n",
       "    </tr>\n",
       "    <tr>\n",
       "      <th>NET</th>\n",
       "      <td>C#</td>\n",
       "      <td>30</td>\n",
       "    </tr>\n",
       "    <tr>\n",
       "      <th>APP</th>\n",
       "      <td>Kotlin</td>\n",
       "      <td>27</td>\n",
       "    </tr>\n",
       "    <tr>\n",
       "      <th>Java</th>\n",
       "      <td>JAVA</td>\n",
       "      <td>23</td>\n",
       "    </tr>\n",
       "  </tbody>\n",
       "</table>\n",
       "</div>"
      ],
      "text/plain": [
       "     Language  Students\n",
       "AI     Python        25\n",
       "NET        C#        30\n",
       "APP    Kotlin        27\n",
       "Java     JAVA        23"
      ]
     },
     "execution_count": 36,
     "metadata": {},
     "output_type": "execute_result"
    }
   ],
   "source": [
    "# multiple columns\n",
    "df[[\"Language\", \"Students\"]]"
   ]
  },
  {
   "cell_type": "code",
   "execution_count": 54,
   "metadata": {},
   "outputs": [
    {
     "name": "stdout",
     "output_type": "stream",
     "text": [
      "AI       True\n",
      "NET      True\n",
      "APP      True\n",
      "Java    False\n",
      "Name: Students, dtype: bool\n"
     ]
    },
    {
     "data": {
      "text/html": [
       "<div>\n",
       "<style scoped>\n",
       "    .dataframe tbody tr th:only-of-type {\n",
       "        vertical-align: middle;\n",
       "    }\n",
       "\n",
       "    .dataframe tbody tr th {\n",
       "        vertical-align: top;\n",
       "    }\n",
       "\n",
       "    .dataframe thead th {\n",
       "        text-align: right;\n",
       "    }\n",
       "</style>\n",
       "<table border=\"1\" class=\"dataframe\">\n",
       "  <thead>\n",
       "    <tr style=\"text-align: right;\">\n",
       "      <th></th>\n",
       "      <th>Students</th>\n",
       "      <th>Language</th>\n",
       "    </tr>\n",
       "  </thead>\n",
       "  <tbody>\n",
       "    <tr>\n",
       "      <th>AI</th>\n",
       "      <td>25</td>\n",
       "      <td>Python</td>\n",
       "    </tr>\n",
       "    <tr>\n",
       "      <th>NET</th>\n",
       "      <td>30</td>\n",
       "      <td>C#</td>\n",
       "    </tr>\n",
       "    <tr>\n",
       "      <th>APP</th>\n",
       "      <td>27</td>\n",
       "      <td>Kotlin</td>\n",
       "    </tr>\n",
       "  </tbody>\n",
       "</table>\n",
       "</div>"
      ],
      "text/plain": [
       "     Students Language\n",
       "AI         25   Python\n",
       "NET        30       C#\n",
       "APP        27   Kotlin"
      ]
     },
     "execution_count": 54,
     "metadata": {},
     "output_type": "execute_result"
    }
   ],
   "source": [
    "# wants to get all rows > 24 students\n",
    "print(df[\"Students\"] > 24)  # __gt__()\n",
    "# this is operation (operate overloading), faster than looping  \n",
    "\n",
    "# masking\n",
    "large_groups = df[df[\"Students\"]>24]  # picked out all rows that are True. evaluating the bool series.\n",
    "large_groups"
   ]
  },
  {
   "cell_type": "code",
   "execution_count": 45,
   "metadata": {},
   "outputs": [
    {
     "name": "stdout",
     "output_type": "stream",
     "text": [
      "<class 'pandas.core.frame.DataFrame'>\n",
      "Index: 3 entries, AI to APP\n",
      "Data columns (total 2 columns):\n",
      " #   Column    Non-Null Count  Dtype \n",
      "---  ------    --------------  ----- \n",
      " 0   Students  3 non-null      int64 \n",
      " 1   Language  3 non-null      object\n",
      "dtypes: int64(1), object(1)\n",
      "memory usage: 72.0+ bytes\n"
     ]
    }
   ],
   "source": [
    "large_groups.info()"
   ]
  },
  {
   "cell_type": "code",
   "execution_count": 61,
   "metadata": {},
   "outputs": [
    {
     "data": {
      "image/png": "[encoded data removed]",
      "text/plain": [
       "<Figure size 432x288 with 1 Axes>"
      ]
     },
     "metadata": {
      "needs_background": "light"
     },
     "output_type": "display_data"
    }
   ],
   "source": [
    "import seaborn as sns\n",
    "import matplotlib.pyplot as plt\n",
    "sns.barplot(data=large_groups, x=large_groups.index, y=\"Students\")\n",
    "plt.title(\"Antal studenter i olika grogram\"); #Utan \";\", ska printa Text(0.5, 1.0, 'Antal studenter i olika grogram')\n",
    "#sns set tile can aslo be used instead of matplotlib"
   ]
  },
  {
   "cell_type": "code",
   "execution_count": 63,
   "metadata": {},
   "outputs": [
    {
     "data": {
      "text/html": [
       "<div>\n",
       "<style scoped>\n",
       "    .dataframe tbody tr th:only-of-type {\n",
       "        vertical-align: middle;\n",
       "    }\n",
       "\n",
       "    .dataframe tbody tr th {\n",
       "        vertical-align: top;\n",
       "    }\n",
       "\n",
       "    .dataframe thead th {\n",
       "        text-align: right;\n",
       "    }\n",
       "</style>\n",
       "<table border=\"1\" class=\"dataframe\">\n",
       "  <thead>\n",
       "    <tr style=\"text-align: right;\">\n",
       "      <th></th>\n",
       "      <th>FoodCategory</th>\n",
       "      <th>FoodItem</th>\n",
       "      <th>per100grams</th>\n",
       "      <th>Cals_per100grams</th>\n",
       "      <th>KJ_per100grams</th>\n",
       "    </tr>\n",
       "  </thead>\n",
       "  <tbody>\n",
       "    <tr>\n",
       "      <th>0</th>\n",
       "      <td>CannedFruit</td>\n",
       "      <td>Applesauce</td>\n",
       "      <td>100g</td>\n",
       "      <td>62 cal</td>\n",
       "      <td>260 kJ</td>\n",
       "    </tr>\n",
       "    <tr>\n",
       "      <th>1</th>\n",
       "      <td>CannedFruit</td>\n",
       "      <td>Canned Apricots</td>\n",
       "      <td>100g</td>\n",
       "      <td>48 cal</td>\n",
       "      <td>202 kJ</td>\n",
       "    </tr>\n",
       "    <tr>\n",
       "      <th>2</th>\n",
       "      <td>CannedFruit</td>\n",
       "      <td>Canned Blackberries</td>\n",
       "      <td>100g</td>\n",
       "      <td>92 cal</td>\n",
       "      <td>386 kJ</td>\n",
       "    </tr>\n",
       "  </tbody>\n",
       "</table>\n",
       "</div>"
      ],
      "text/plain": [
       "  FoodCategory             FoodItem per100grams Cals_per100grams  \\\n",
       "0  CannedFruit           Applesauce        100g           62 cal   \n",
       "1  CannedFruit      Canned Apricots        100g           48 cal   \n",
       "2  CannedFruit  Canned Blackberries        100g           92 cal   \n",
       "\n",
       "  KJ_per100grams  \n",
       "0         260 kJ  \n",
       "1         202 kJ  \n",
       "2         386 kJ  "
      ]
     },
     "execution_count": 63,
     "metadata": {},
     "output_type": "execute_result"
    }
   ],
   "source": [
    "# Read Excel\n",
    "\n",
    "calories = pd.read_excel(\"../Data/calories.xlsx\")\n",
    "calories.head(3)"
   ]
  },
  {
   "cell_type": "code",
   "execution_count": 65,
   "metadata": {},
   "outputs": [
    {
     "data": {
      "text/html": [
       "<div>\n",
       "<style scoped>\n",
       "    .dataframe tbody tr th:only-of-type {\n",
       "        vertical-align: middle;\n",
       "    }\n",
       "\n",
       "    .dataframe tbody tr th {\n",
       "        vertical-align: top;\n",
       "    }\n",
       "\n",
       "    .dataframe thead th {\n",
       "        text-align: right;\n",
       "    }\n",
       "</style>\n",
       "<table border=\"1\" class=\"dataframe\">\n",
       "  <thead>\n",
       "    <tr style=\"text-align: right;\">\n",
       "      <th></th>\n",
       "      <th>FoodCategory</th>\n",
       "      <th>FoodItem</th>\n",
       "      <th>per100grams</th>\n",
       "      <th>Cals_per100grams</th>\n",
       "      <th>KJ_per100grams</th>\n",
       "    </tr>\n",
       "  </thead>\n",
       "  <tbody>\n",
       "    <tr>\n",
       "      <th>3</th>\n",
       "      <td>CannedFruit</td>\n",
       "      <td>Canned Blueberries</td>\n",
       "      <td>100g</td>\n",
       "      <td>88 cal</td>\n",
       "      <td>370 kJ</td>\n",
       "    </tr>\n",
       "    <tr>\n",
       "      <th>4</th>\n",
       "      <td>CannedFruit</td>\n",
       "      <td>Canned Cherries</td>\n",
       "      <td>100g</td>\n",
       "      <td>54 cal</td>\n",
       "      <td>227 kJ</td>\n",
       "    </tr>\n",
       "    <tr>\n",
       "      <th>5</th>\n",
       "      <td>CannedFruit</td>\n",
       "      <td>Canned Cranberries</td>\n",
       "      <td>100g</td>\n",
       "      <td>178 cal</td>\n",
       "      <td>748 kJ</td>\n",
       "    </tr>\n",
       "    <tr>\n",
       "      <th>6</th>\n",
       "      <td>CannedFruit</td>\n",
       "      <td>Canned Crushed Pineapple</td>\n",
       "      <td>100g</td>\n",
       "      <td>53 cal</td>\n",
       "      <td>223 kJ</td>\n",
       "    </tr>\n",
       "    <tr>\n",
       "      <th>7</th>\n",
       "      <td>CannedFruit</td>\n",
       "      <td>Canned Figs</td>\n",
       "      <td>100g</td>\n",
       "      <td>107 cal</td>\n",
       "      <td>449 kJ</td>\n",
       "    </tr>\n",
       "  </tbody>\n",
       "</table>\n",
       "</div>"
      ],
      "text/plain": [
       "  FoodCategory                  FoodItem per100grams Cals_per100grams  \\\n",
       "3  CannedFruit        Canned Blueberries        100g           88 cal   \n",
       "4  CannedFruit           Canned Cherries        100g           54 cal   \n",
       "5  CannedFruit        Canned Cranberries        100g          178 cal   \n",
       "6  CannedFruit  Canned Crushed Pineapple        100g           53 cal   \n",
       "7  CannedFruit               Canned Figs        100g          107 cal   \n",
       "\n",
       "  KJ_per100grams  \n",
       "3         370 kJ  \n",
       "4         227 kJ  \n",
       "5         748 kJ  \n",
       "6         223 kJ  \n",
       "7         449 kJ  "
      ]
     },
     "execution_count": 65,
     "metadata": {},
     "output_type": "execute_result"
    }
   ],
   "source": [
    "calories.iloc[3:8]  # index of locations"
   ]
  },
  {
   "cell_type": "code",
   "execution_count": 66,
   "metadata": {},
   "outputs": [
    {
     "name": "stdout",
     "output_type": "stream",
     "text": [
      "<class 'pandas.core.frame.DataFrame'>\n",
      "RangeIndex: 2225 entries, 0 to 2224\n",
      "Data columns (total 5 columns):\n",
      " #   Column            Non-Null Count  Dtype \n",
      "---  ------            --------------  ----- \n",
      " 0   FoodCategory      2225 non-null   object\n",
      " 1   FoodItem          2225 non-null   object\n",
      " 2   per100grams       2225 non-null   object\n",
      " 3   Cals_per100grams  2225 non-null   object\n",
      " 4   KJ_per100grams    2225 non-null   object\n",
      "dtypes: object(5)\n",
      "memory usage: 87.0+ KB\n"
     ]
    }
   ],
   "source": [
    "calories.info()"
   ]
  },
  {
   "cell_type": "code",
   "execution_count": 67,
   "metadata": {},
   "outputs": [
    {
     "data": {
      "text/html": [
       "<div>\n",
       "<style scoped>\n",
       "    .dataframe tbody tr th:only-of-type {\n",
       "        vertical-align: middle;\n",
       "    }\n",
       "\n",
       "    .dataframe tbody tr th {\n",
       "        vertical-align: top;\n",
       "    }\n",
       "\n",
       "    .dataframe thead th {\n",
       "        text-align: right;\n",
       "    }\n",
       "</style>\n",
       "<table border=\"1\" class=\"dataframe\">\n",
       "  <thead>\n",
       "    <tr style=\"text-align: right;\">\n",
       "      <th></th>\n",
       "      <th>FoodCategory</th>\n",
       "      <th>FoodItem</th>\n",
       "      <th>per100grams</th>\n",
       "      <th>Cals_per100grams</th>\n",
       "      <th>KJ_per100grams</th>\n",
       "    </tr>\n",
       "  </thead>\n",
       "  <tbody>\n",
       "    <tr>\n",
       "      <th>count</th>\n",
       "      <td>2225</td>\n",
       "      <td>2225</td>\n",
       "      <td>2225</td>\n",
       "      <td>2225</td>\n",
       "      <td>2225</td>\n",
       "    </tr>\n",
       "    <tr>\n",
       "      <th>unique</th>\n",
       "      <td>44</td>\n",
       "      <td>1993</td>\n",
       "      <td>2</td>\n",
       "      <td>524</td>\n",
       "      <td>524</td>\n",
       "    </tr>\n",
       "    <tr>\n",
       "      <th>top</th>\n",
       "      <td>BakingIngredients</td>\n",
       "      <td>Roast Beef</td>\n",
       "      <td>100g</td>\n",
       "      <td>100 cal</td>\n",
       "      <td>420 kJ</td>\n",
       "    </tr>\n",
       "    <tr>\n",
       "      <th>freq</th>\n",
       "      <td>95</td>\n",
       "      <td>4</td>\n",
       "      <td>1802</td>\n",
       "      <td>26</td>\n",
       "      <td>26</td>\n",
       "    </tr>\n",
       "  </tbody>\n",
       "</table>\n",
       "</div>"
      ],
      "text/plain": [
       "             FoodCategory    FoodItem per100grams Cals_per100grams  \\\n",
       "count                2225        2225        2225             2225   \n",
       "unique                 44        1993           2              524   \n",
       "top     BakingIngredients  Roast Beef        100g          100 cal   \n",
       "freq                   95           4        1802               26   \n",
       "\n",
       "       KJ_per100grams  \n",
       "count            2225  \n",
       "unique            524  \n",
       "top            420 kJ  \n",
       "freq               26  "
      ]
     },
     "execution_count": 67,
     "metadata": {},
     "output_type": "execute_result"
    }
   ],
   "source": [
    "calories.describe() # gives statistics on dataframe"
   ]
  },
  {
   "cell_type": "code",
   "execution_count": 70,
   "metadata": {},
   "outputs": [
    {
     "data": {
      "text/plain": [
       "array(['CannedFruit', 'Fruits', 'Tropical&ExoticFruits', 'PotatoProducts',\n",
       "       'Vegetables', 'FastFood', 'Pizza', 'Cheese', 'CreamCheese',\n",
       "       'Milk&DairyProducts', 'SlicedCheese', 'Yogurt', 'Beef&Veal',\n",
       "       'ColdCuts&LunchMeat', 'Meat', 'Offal&Giblets', 'Pork',\n",
       "       'Poultry&Fowl', 'Sausage', 'Venison&Game', 'Cakes&Pies',\n",
       "       'Candy&Sweets', 'IceCream', '(Fruit)Juices',\n",
       "       'AlcoholicDrinks&Beverages', 'Beer',\n",
       "       'Non-AlcoholicDrinks&Beverages', 'Soda&SoftDrinks', 'Wine',\n",
       "       'CerealProducts', 'Oatmeal,Muesli&Cereals', 'Pasta&Noodles',\n",
       "       'Dishes&Meals', 'Soups', 'Legumes', 'Nuts&Seeds', 'Oils&Fats',\n",
       "       'VegetableOils', 'BakingIngredients', 'Fish&Seafood',\n",
       "       'Herbs&Spices', 'Pastries,Breads&Rolls', 'Sauces&Dressings',\n",
       "       'Spreads'], dtype=object)"
      ]
     },
     "execution_count": 70,
     "metadata": {},
     "output_type": "execute_result"
    }
   ],
   "source": [
    "calories[\"FoodCategory\"].unique()"
   ]
  },
  {
   "cell_type": "code",
   "execution_count": 71,
   "metadata": {},
   "outputs": [
    {
     "data": {
      "text/plain": [
       "Index(['FoodCategory', 'FoodItem', 'per100grams', 'Cals_per100grams',\n",
       "       'KJ_per100grams'],\n",
       "      dtype='object')"
      ]
     },
     "execution_count": 71,
     "metadata": {},
     "output_type": "execute_result"
    }
   ],
   "source": [
    "calories.columns"
   ]
  },
  {
   "cell_type": "code",
   "execution_count": 72,
   "metadata": {},
   "outputs": [
    {
     "data": {
      "text/plain": [
       "array(['100g', '100ml'], dtype=object)"
      ]
     },
     "execution_count": 72,
     "metadata": {},
     "output_type": "execute_result"
    }
   ],
   "source": [
    "calories[\"per100grams\"].unique()"
   ]
  },
  {
   "cell_type": "markdown",
   "metadata": {},
   "source": [
    "## Data cleaning\n",
    "\n",
    "- convert string to int\n",
    "- change column names\n",
    "- seperate liquids and solids"
   ]
  },
  {
   "cell_type": "code",
   "execution_count": 78,
   "metadata": {},
   "outputs": [],
   "source": [
    "calories = calories.rename(dict(Cals_per100grams = \"Calories\", per100grams=\"per100\"), axis=\"columns\")  # default will rename the rows, not columns"
   ]
  },
  {
   "cell_type": "code",
   "execution_count": 79,
   "metadata": {},
   "outputs": [
    {
     "data": {
      "text/html": [
       "<div>\n",
       "<style scoped>\n",
       "    .dataframe tbody tr th:only-of-type {\n",
       "        vertical-align: middle;\n",
       "    }\n",
       "\n",
       "    .dataframe tbody tr th {\n",
       "        vertical-align: top;\n",
       "    }\n",
       "\n",
       "    .dataframe thead th {\n",
       "        text-align: right;\n",
       "    }\n",
       "</style>\n",
       "<table border=\"1\" class=\"dataframe\">\n",
       "  <thead>\n",
       "    <tr style=\"text-align: right;\">\n",
       "      <th></th>\n",
       "      <th>FoodCategory</th>\n",
       "      <th>FoodItem</th>\n",
       "      <th>per100</th>\n",
       "      <th>Calories</th>\n",
       "      <th>KJ_per100grams</th>\n",
       "    </tr>\n",
       "  </thead>\n",
       "  <tbody>\n",
       "    <tr>\n",
       "      <th>0</th>\n",
       "      <td>CannedFruit</td>\n",
       "      <td>Applesauce</td>\n",
       "      <td>100g</td>\n",
       "      <td>62 cal</td>\n",
       "      <td>260 kJ</td>\n",
       "    </tr>\n",
       "    <tr>\n",
       "      <th>1</th>\n",
       "      <td>CannedFruit</td>\n",
       "      <td>Canned Apricots</td>\n",
       "      <td>100g</td>\n",
       "      <td>48 cal</td>\n",
       "      <td>202 kJ</td>\n",
       "    </tr>\n",
       "    <tr>\n",
       "      <th>2</th>\n",
       "      <td>CannedFruit</td>\n",
       "      <td>Canned Blackberries</td>\n",
       "      <td>100g</td>\n",
       "      <td>92 cal</td>\n",
       "      <td>386 kJ</td>\n",
       "    </tr>\n",
       "    <tr>\n",
       "      <th>3</th>\n",
       "      <td>CannedFruit</td>\n",
       "      <td>Canned Blueberries</td>\n",
       "      <td>100g</td>\n",
       "      <td>88 cal</td>\n",
       "      <td>370 kJ</td>\n",
       "    </tr>\n",
       "    <tr>\n",
       "      <th>4</th>\n",
       "      <td>CannedFruit</td>\n",
       "      <td>Canned Cherries</td>\n",
       "      <td>100g</td>\n",
       "      <td>54 cal</td>\n",
       "      <td>227 kJ</td>\n",
       "    </tr>\n",
       "  </tbody>\n",
       "</table>\n",
       "</div>"
      ],
      "text/plain": [
       "  FoodCategory             FoodItem per100 Calories KJ_per100grams\n",
       "0  CannedFruit           Applesauce   100g   62 cal         260 kJ\n",
       "1  CannedFruit      Canned Apricots   100g   48 cal         202 kJ\n",
       "2  CannedFruit  Canned Blackberries   100g   92 cal         386 kJ\n",
       "3  CannedFruit   Canned Blueberries   100g   88 cal         370 kJ\n",
       "4  CannedFruit      Canned Cherries   100g   54 cal         227 kJ"
      ]
     },
     "execution_count": 79,
     "metadata": {},
     "output_type": "execute_result"
    }
   ],
   "source": [
    "calories.head()"
   ]
  },
  {
   "cell_type": "code",
   "execution_count": 80,
   "metadata": {},
   "outputs": [
    {
     "data": {
      "text/html": [
       "<div>\n",
       "<style scoped>\n",
       "    .dataframe tbody tr th:only-of-type {\n",
       "        vertical-align: middle;\n",
       "    }\n",
       "\n",
       "    .dataframe tbody tr th {\n",
       "        vertical-align: top;\n",
       "    }\n",
       "\n",
       "    .dataframe thead th {\n",
       "        text-align: right;\n",
       "    }\n",
       "</style>\n",
       "<table border=\"1\" class=\"dataframe\">\n",
       "  <thead>\n",
       "    <tr style=\"text-align: right;\">\n",
       "      <th></th>\n",
       "      <th>FoodCategory</th>\n",
       "      <th>FoodItem</th>\n",
       "      <th>per100</th>\n",
       "      <th>Calories</th>\n",
       "      <th>KJ_per100grams</th>\n",
       "    </tr>\n",
       "  </thead>\n",
       "  <tbody>\n",
       "    <tr>\n",
       "      <th>2220</th>\n",
       "      <td>Spreads</td>\n",
       "      <td>Sunflower Butter</td>\n",
       "      <td>100g</td>\n",
       "      <td>617 cal</td>\n",
       "      <td>2591 kJ</td>\n",
       "    </tr>\n",
       "    <tr>\n",
       "      <th>2221</th>\n",
       "      <td>Spreads</td>\n",
       "      <td>Tapenade</td>\n",
       "      <td>100g</td>\n",
       "      <td>233 cal</td>\n",
       "      <td>979 kJ</td>\n",
       "    </tr>\n",
       "    <tr>\n",
       "      <th>2222</th>\n",
       "      <td>Spreads</td>\n",
       "      <td>Unsalted Butter</td>\n",
       "      <td>100g</td>\n",
       "      <td>717 cal</td>\n",
       "      <td>3011 kJ</td>\n",
       "    </tr>\n",
       "    <tr>\n",
       "      <th>2223</th>\n",
       "      <td>Spreads</td>\n",
       "      <td>Vegemite</td>\n",
       "      <td>100g</td>\n",
       "      <td>180 cal</td>\n",
       "      <td>756 kJ</td>\n",
       "    </tr>\n",
       "    <tr>\n",
       "      <th>2224</th>\n",
       "      <td>Spreads</td>\n",
       "      <td>Wild Honey</td>\n",
       "      <td>100g</td>\n",
       "      <td>286 cal</td>\n",
       "      <td>1201 kJ</td>\n",
       "    </tr>\n",
       "  </tbody>\n",
       "</table>\n",
       "</div>"
      ],
      "text/plain": [
       "     FoodCategory          FoodItem per100 Calories KJ_per100grams\n",
       "2220      Spreads  Sunflower Butter   100g  617 cal        2591 kJ\n",
       "2221      Spreads          Tapenade   100g  233 cal         979 kJ\n",
       "2222      Spreads   Unsalted Butter   100g  717 cal        3011 kJ\n",
       "2223      Spreads          Vegemite   100g  180 cal         756 kJ\n",
       "2224      Spreads        Wild Honey   100g  286 cal        1201 kJ"
      ]
     },
     "execution_count": 80,
     "metadata": {},
     "output_type": "execute_result"
    }
   ],
   "source": [
    "calories.tail()"
   ]
  },
  {
   "cell_type": "code",
   "execution_count": 86,
   "metadata": {},
   "outputs": [
    {
     "data": {
      "text/html": [
       "<div>\n",
       "<style scoped>\n",
       "    .dataframe tbody tr th:only-of-type {\n",
       "        vertical-align: middle;\n",
       "    }\n",
       "\n",
       "    .dataframe tbody tr th {\n",
       "        vertical-align: top;\n",
       "    }\n",
       "\n",
       "    .dataframe thead th {\n",
       "        text-align: right;\n",
       "    }\n",
       "</style>\n",
       "<table border=\"1\" class=\"dataframe\">\n",
       "  <thead>\n",
       "    <tr style=\"text-align: right;\">\n",
       "      <th></th>\n",
       "      <th>FoodCategory</th>\n",
       "      <th>FoodItem</th>\n",
       "      <th>per100</th>\n",
       "      <th>Calories</th>\n",
       "      <th>KJ_per100grams</th>\n",
       "    </tr>\n",
       "  </thead>\n",
       "  <tbody>\n",
       "    <tr>\n",
       "      <th>0</th>\n",
       "      <td>CannedFruit</td>\n",
       "      <td>Applesauce</td>\n",
       "      <td>100g</td>\n",
       "      <td>62</td>\n",
       "      <td>260 kJ</td>\n",
       "    </tr>\n",
       "    <tr>\n",
       "      <th>1</th>\n",
       "      <td>CannedFruit</td>\n",
       "      <td>Canned Apricots</td>\n",
       "      <td>100g</td>\n",
       "      <td>48</td>\n",
       "      <td>202 kJ</td>\n",
       "    </tr>\n",
       "    <tr>\n",
       "      <th>2</th>\n",
       "      <td>CannedFruit</td>\n",
       "      <td>Canned Blackberries</td>\n",
       "      <td>100g</td>\n",
       "      <td>92</td>\n",
       "      <td>386 kJ</td>\n",
       "    </tr>\n",
       "    <tr>\n",
       "      <th>3</th>\n",
       "      <td>CannedFruit</td>\n",
       "      <td>Canned Blueberries</td>\n",
       "      <td>100g</td>\n",
       "      <td>88</td>\n",
       "      <td>370 kJ</td>\n",
       "    </tr>\n",
       "    <tr>\n",
       "      <th>4</th>\n",
       "      <td>CannedFruit</td>\n",
       "      <td>Canned Cherries</td>\n",
       "      <td>100g</td>\n",
       "      <td>54</td>\n",
       "      <td>227 kJ</td>\n",
       "    </tr>\n",
       "  </tbody>\n",
       "</table>\n",
       "</div>"
      ],
      "text/plain": [
       "  FoodCategory             FoodItem per100  Calories KJ_per100grams\n",
       "0  CannedFruit           Applesauce   100g        62         260 kJ\n",
       "1  CannedFruit      Canned Apricots   100g        48         202 kJ\n",
       "2  CannedFruit  Canned Blackberries   100g        92         386 kJ\n",
       "3  CannedFruit   Canned Blueberries   100g        88         370 kJ\n",
       "4  CannedFruit      Canned Cherries   100g        54         227 kJ"
      ]
     },
     "execution_count": 86,
     "metadata": {},
     "output_type": "execute_result"
    }
   ],
   "source": [
    "calories[\"Calories\"] = calories[\"Calories\"].str[:-3].astype(int)\n",
    "calories.head()\n"
   ]
  },
  {
   "cell_type": "code",
   "execution_count": 87,
   "metadata": {},
   "outputs": [
    {
     "data": {
      "text/plain": [
       "100g     1802\n",
       "100ml     423\n",
       "Name: per100, dtype: int64"
      ]
     },
     "execution_count": 87,
     "metadata": {},
     "output_type": "execute_result"
    }
   ],
   "source": [
    "calories[\"per100\"].value_counts()"
   ]
  },
  {
   "cell_type": "code",
   "execution_count": 94,
   "metadata": {},
   "outputs": [
    {
     "data": {
      "text/html": [
       "<div>\n",
       "<style scoped>\n",
       "    .dataframe tbody tr th:only-of-type {\n",
       "        vertical-align: middle;\n",
       "    }\n",
       "\n",
       "    .dataframe tbody tr th {\n",
       "        vertical-align: top;\n",
       "    }\n",
       "\n",
       "    .dataframe thead th {\n",
       "        text-align: right;\n",
       "    }\n",
       "</style>\n",
       "<table border=\"1\" class=\"dataframe\">\n",
       "  <thead>\n",
       "    <tr style=\"text-align: right;\">\n",
       "      <th></th>\n",
       "      <th>FoodCategory</th>\n",
       "      <th>FoodItem</th>\n",
       "      <th>per100</th>\n",
       "      <th>Calories</th>\n",
       "      <th>KJ_per100grams</th>\n",
       "    </tr>\n",
       "  </thead>\n",
       "  <tbody>\n",
       "    <tr>\n",
       "      <th>409</th>\n",
       "      <td>Milk&amp;DairyProducts</td>\n",
       "      <td>Almond Milk</td>\n",
       "      <td>100ml</td>\n",
       "      <td>17</td>\n",
       "      <td>71 kJ</td>\n",
       "    </tr>\n",
       "    <tr>\n",
       "      <th>410</th>\n",
       "      <td>Milk&amp;DairyProducts</td>\n",
       "      <td>Buttermilk</td>\n",
       "      <td>100ml</td>\n",
       "      <td>62</td>\n",
       "      <td>260 kJ</td>\n",
       "    </tr>\n",
       "    <tr>\n",
       "      <th>412</th>\n",
       "      <td>Milk&amp;DairyProducts</td>\n",
       "      <td>Coconut Milk</td>\n",
       "      <td>100ml</td>\n",
       "      <td>230</td>\n",
       "      <td>966 kJ</td>\n",
       "    </tr>\n",
       "    <tr>\n",
       "      <th>422</th>\n",
       "      <td>Milk&amp;DairyProducts</td>\n",
       "      <td>Hot Chocolate</td>\n",
       "      <td>100ml</td>\n",
       "      <td>89</td>\n",
       "      <td>374 kJ</td>\n",
       "    </tr>\n",
       "    <tr>\n",
       "      <th>423</th>\n",
       "      <td>Milk&amp;DairyProducts</td>\n",
       "      <td>Kefir</td>\n",
       "      <td>100ml</td>\n",
       "      <td>55</td>\n",
       "      <td>231 kJ</td>\n",
       "    </tr>\n",
       "  </tbody>\n",
       "</table>\n",
       "</div>"
      ],
      "text/plain": [
       "           FoodCategory       FoodItem per100  Calories KJ_per100grams\n",
       "409  Milk&DairyProducts    Almond Milk  100ml        17          71 kJ\n",
       "410  Milk&DairyProducts     Buttermilk  100ml        62         260 kJ\n",
       "412  Milk&DairyProducts   Coconut Milk  100ml       230         966 kJ\n",
       "422  Milk&DairyProducts  Hot Chocolate  100ml        89         374 kJ\n",
       "423  Milk&DairyProducts          Kefir  100ml        55         231 kJ"
      ]
     },
     "execution_count": 94,
     "metadata": {},
     "output_type": "execute_result"
    }
   ],
   "source": [
    "solids = calories[calories[\"per100\"] == \"100g\"] # Bool series\n",
    "liquids = calories[calories[\"per100\"] == \"100ml\"]\n",
    "liquids.head()"
   ]
  },
  {
   "cell_type": "code",
   "execution_count": 95,
   "metadata": {},
   "outputs": [
    {
     "data": {
      "text/html": [
       "<div>\n",
       "<style scoped>\n",
       "    .dataframe tbody tr th:only-of-type {\n",
       "        vertical-align: middle;\n",
       "    }\n",
       "\n",
       "    .dataframe tbody tr th {\n",
       "        vertical-align: top;\n",
       "    }\n",
       "\n",
       "    .dataframe thead th {\n",
       "        text-align: right;\n",
       "    }\n",
       "</style>\n",
       "<table border=\"1\" class=\"dataframe\">\n",
       "  <thead>\n",
       "    <tr style=\"text-align: right;\">\n",
       "      <th></th>\n",
       "      <th>FoodCategory</th>\n",
       "      <th>FoodItem</th>\n",
       "      <th>per100</th>\n",
       "      <th>Calories</th>\n",
       "      <th>KJ_per100grams</th>\n",
       "    </tr>\n",
       "  </thead>\n",
       "  <tbody>\n",
       "    <tr>\n",
       "      <th>0</th>\n",
       "      <td>CannedFruit</td>\n",
       "      <td>Applesauce</td>\n",
       "      <td>100g</td>\n",
       "      <td>62</td>\n",
       "      <td>260 kJ</td>\n",
       "    </tr>\n",
       "    <tr>\n",
       "      <th>1</th>\n",
       "      <td>CannedFruit</td>\n",
       "      <td>Canned Apricots</td>\n",
       "      <td>100g</td>\n",
       "      <td>48</td>\n",
       "      <td>202 kJ</td>\n",
       "    </tr>\n",
       "    <tr>\n",
       "      <th>2</th>\n",
       "      <td>CannedFruit</td>\n",
       "      <td>Canned Blackberries</td>\n",
       "      <td>100g</td>\n",
       "      <td>92</td>\n",
       "      <td>386 kJ</td>\n",
       "    </tr>\n",
       "    <tr>\n",
       "      <th>3</th>\n",
       "      <td>CannedFruit</td>\n",
       "      <td>Canned Blueberries</td>\n",
       "      <td>100g</td>\n",
       "      <td>88</td>\n",
       "      <td>370 kJ</td>\n",
       "    </tr>\n",
       "    <tr>\n",
       "      <th>4</th>\n",
       "      <td>CannedFruit</td>\n",
       "      <td>Canned Cherries</td>\n",
       "      <td>100g</td>\n",
       "      <td>54</td>\n",
       "      <td>227 kJ</td>\n",
       "    </tr>\n",
       "  </tbody>\n",
       "</table>\n",
       "</div>"
      ],
      "text/plain": [
       "  FoodCategory             FoodItem per100  Calories KJ_per100grams\n",
       "0  CannedFruit           Applesauce   100g        62         260 kJ\n",
       "1  CannedFruit      Canned Apricots   100g        48         202 kJ\n",
       "2  CannedFruit  Canned Blackberries   100g        92         386 kJ\n",
       "3  CannedFruit   Canned Blueberries   100g        88         370 kJ\n",
       "4  CannedFruit      Canned Cherries   100g        54         227 kJ"
      ]
     },
     "execution_count": 95,
     "metadata": {},
     "output_type": "execute_result"
    }
   ],
   "source": [
    "solids.head()"
   ]
  },
  {
   "cell_type": "markdown",
   "metadata": {},
   "source": [
    "## Find top 5 categoreis with highest calories"
   ]
  },
  {
   "cell_type": "code",
   "execution_count": 102,
   "metadata": {},
   "outputs": [],
   "source": [
    "solids_top5 = solids.sort_values(by=\"Calories\", ascending=False).head()"
   ]
  },
  {
   "cell_type": "code",
   "execution_count": 103,
   "metadata": {},
   "outputs": [
    {
     "data": {
      "text/html": [
       "<div>\n",
       "<style scoped>\n",
       "    .dataframe tbody tr th:only-of-type {\n",
       "        vertical-align: middle;\n",
       "    }\n",
       "\n",
       "    .dataframe tbody tr th {\n",
       "        vertical-align: top;\n",
       "    }\n",
       "\n",
       "    .dataframe thead th {\n",
       "        text-align: right;\n",
       "    }\n",
       "</style>\n",
       "<table border=\"1\" class=\"dataframe\">\n",
       "  <thead>\n",
       "    <tr style=\"text-align: right;\">\n",
       "      <th></th>\n",
       "      <th>FoodCategory</th>\n",
       "      <th>FoodItem</th>\n",
       "      <th>per100</th>\n",
       "      <th>Calories</th>\n",
       "      <th>KJ_per100grams</th>\n",
       "    </tr>\n",
       "  </thead>\n",
       "  <tbody>\n",
       "    <tr>\n",
       "      <th>1751</th>\n",
       "      <td>Oils&amp;Fats</td>\n",
       "      <td>Cod Liver Oil</td>\n",
       "      <td>100ml</td>\n",
       "      <td>1000</td>\n",
       "      <td>4200 kJ</td>\n",
       "    </tr>\n",
       "    <tr>\n",
       "      <th>1808</th>\n",
       "      <td>VegetableOils</td>\n",
       "      <td>Wheat Germ Oil</td>\n",
       "      <td>100ml</td>\n",
       "      <td>929</td>\n",
       "      <td>3902 kJ</td>\n",
       "    </tr>\n",
       "    <tr>\n",
       "      <th>1800</th>\n",
       "      <td>VegetableOils</td>\n",
       "      <td>Salmon Oil</td>\n",
       "      <td>100ml</td>\n",
       "      <td>911</td>\n",
       "      <td>3826 kJ</td>\n",
       "    </tr>\n",
       "    <tr>\n",
       "      <th>1789</th>\n",
       "      <td>VegetableOils</td>\n",
       "      <td>Menhaden Oil</td>\n",
       "      <td>100ml</td>\n",
       "      <td>911</td>\n",
       "      <td>3826 kJ</td>\n",
       "    </tr>\n",
       "    <tr>\n",
       "      <th>1759</th>\n",
       "      <td>Oils&amp;Fats</td>\n",
       "      <td>Herring Oil</td>\n",
       "      <td>100ml</td>\n",
       "      <td>902</td>\n",
       "      <td>3788 kJ</td>\n",
       "    </tr>\n",
       "  </tbody>\n",
       "</table>\n",
       "</div>"
      ],
      "text/plain": [
       "       FoodCategory        FoodItem per100  Calories KJ_per100grams\n",
       "1751      Oils&Fats   Cod Liver Oil  100ml      1000        4200 kJ\n",
       "1808  VegetableOils  Wheat Germ Oil  100ml       929        3902 kJ\n",
       "1800  VegetableOils      Salmon Oil  100ml       911        3826 kJ\n",
       "1789  VegetableOils    Menhaden Oil  100ml       911        3826 kJ\n",
       "1759      Oils&Fats     Herring Oil  100ml       902        3788 kJ"
      ]
     },
     "execution_count": 103,
     "metadata": {},
     "output_type": "execute_result"
    }
   ],
   "source": [
    "liquids_top5 = liquids.sort_values(by=\"Calories\", ascending=False).head()\n",
    "liquids_top5"
   ]
  },
  {
   "cell_type": "code",
   "execution_count": 105,
   "metadata": {},
   "outputs": [
    {
     "data": {
      "image/png": "[encoded data removed]",
      "text/plain": [
       "<Figure size 1200x400 with 2 Axes>"
      ]
     },
     "metadata": {
      "needs_background": "light"
     },
     "output_type": "display_data"
    }
   ],
   "source": [
    "import matplotlib.pyplot as plt\n",
    "fig, ax = plt.subplots(1,2, dpi=100, figsize=(12,4))\n",
    "sns.barplot(data=solids_top5, x=\"FoodItem\", y=\"Calories\", ax=ax[0]);\n",
    "sns.barplot(data=liquids_top5, x=\"FoodItem\", y=\"Calories\", ax=ax[1]);\n"
   ]
  }
 ],
 "metadata": {
  "interpreter": {
   "hash": "6e196819d036a3086e143cc894c3d3ad00d957706e86284532ecdff9f0b155cd"
  },
  "kernelspec": {
   "display_name": "Python 3.9.6 64-bit ('Databehandling-Yuna-Liu-cbRWZUHp': pipenv)",
   "name": "python3"
  },
  "language_info": {
   "codemirror_mode": {
    "name": "ipython",
    "version": 3
   },
   "file_extension": ".py",
   "mimetype": "text/x-python",
   "name": "python",
   "nbconvert_exporter": "python",
   "pygments_lexer": "ipython3",
   "version": "3.9.6"
  },
  "orig_nbformat": 4
 },
 "nbformat": 4,
 "nbformat_minor": 2
}
