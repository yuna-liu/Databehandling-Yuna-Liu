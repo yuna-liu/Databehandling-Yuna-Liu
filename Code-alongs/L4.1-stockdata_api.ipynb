{
 "cells": [
  {
   "cell_type": "markdown",
   "metadata": {},
   "source": [
    "# Stockdata API"
   ]
  },
  {
   "cell_type": "code",
   "execution_count": null,
   "metadata": {},
   "outputs": [],
   "source": [
    "import requests\n",
    "from dotenv import load_dotenv\n",
    "import pandas as pd \n",
    "import seaborn as sns \n",
    "import matplotlib.pyplot as plt \n",
    "import os\n",
    "\n",
    "load_dotenv()\n",
    "api_key = os.getenv(\"ALPHA_API_KEY\")\n",
    "symbol = \"AAPL\"\n",
    "\n",
    "# print(api_key)\n",
    "\n",
    "url = f\"https://www.alphavantage.co/query?function=TIME_SERIES_DAILY&symbol={symbol}&outputsize=full&apikey={api_key}\"\n",
    "data = requests.get(url).json()\n",
    "\n",
    "# ALPHA_API_KEY"
   ]
  },
  {
   "cell_type": "code",
   "execution_count": 16,
   "metadata": {},
   "outputs": [
    {
     "data": {
      "text/html": [
       "<div>\n",
       "<style scoped>\n",
       "    .dataframe tbody tr th:only-of-type {\n",
       "        vertical-align: middle;\n",
       "    }\n",
       "\n",
       "    .dataframe tbody tr th {\n",
       "        vertical-align: top;\n",
       "    }\n",
       "\n",
       "    .dataframe thead th {\n",
       "        text-align: right;\n",
       "    }\n",
       "</style>\n",
       "<table border=\"1\" class=\"dataframe\">\n",
       "  <thead>\n",
       "    <tr style=\"text-align: right;\">\n",
       "      <th></th>\n",
       "      <th>1. open</th>\n",
       "      <th>2. high</th>\n",
       "      <th>3. low</th>\n",
       "      <th>4. close</th>\n",
       "      <th>5. volume</th>\n",
       "    </tr>\n",
       "  </thead>\n",
       "  <tbody>\n",
       "    <tr>\n",
       "      <th>2021-10-29</th>\n",
       "      <td>147.215</td>\n",
       "      <td>149.940</td>\n",
       "      <td>146.4128</td>\n",
       "      <td>149.80</td>\n",
       "      <td>124953168.0</td>\n",
       "    </tr>\n",
       "    <tr>\n",
       "      <th>2021-10-28</th>\n",
       "      <td>149.820</td>\n",
       "      <td>153.165</td>\n",
       "      <td>149.7200</td>\n",
       "      <td>152.57</td>\n",
       "      <td>100077888.0</td>\n",
       "    </tr>\n",
       "    <tr>\n",
       "      <th>2021-10-27</th>\n",
       "      <td>149.360</td>\n",
       "      <td>149.730</td>\n",
       "      <td>148.4900</td>\n",
       "      <td>148.85</td>\n",
       "      <td>56094929.0</td>\n",
       "    </tr>\n",
       "    <tr>\n",
       "      <th>2021-10-26</th>\n",
       "      <td>149.330</td>\n",
       "      <td>150.840</td>\n",
       "      <td>149.0101</td>\n",
       "      <td>149.32</td>\n",
       "      <td>60893395.0</td>\n",
       "    </tr>\n",
       "    <tr>\n",
       "      <th>2021-10-25</th>\n",
       "      <td>148.680</td>\n",
       "      <td>149.370</td>\n",
       "      <td>147.6211</td>\n",
       "      <td>148.64</td>\n",
       "      <td>50720556.0</td>\n",
       "    </tr>\n",
       "  </tbody>\n",
       "</table>\n",
       "</div>"
      ],
      "text/plain": [
       "            1. open  2. high    3. low  4. close    5. volume\n",
       "2021-10-29  147.215  149.940  146.4128    149.80  124953168.0\n",
       "2021-10-28  149.820  153.165  149.7200    152.57  100077888.0\n",
       "2021-10-27  149.360  149.730  148.4900    148.85   56094929.0\n",
       "2021-10-26  149.330  150.840  149.0101    149.32   60893395.0\n",
       "2021-10-25  148.680  149.370  147.6211    148.64   50720556.0"
      ]
     },
     "execution_count": 16,
     "metadata": {},
     "output_type": "execute_result"
    }
   ],
   "source": [
    "df = pd.DataFrame(data[\"Time Series (Daily)\"]).transpose().astype(float)\n",
    "df.head()"
   ]
  },
  {
   "cell_type": "code",
   "execution_count": 18,
   "metadata": {},
   "outputs": [
    {
     "name": "stdout",
     "output_type": "stream",
     "text": [
      "<class 'pandas.core.frame.DataFrame'>\n",
      "Index: 5536 entries, 2021-10-29 to 1999-11-01\n",
      "Data columns (total 5 columns):\n",
      " #   Column     Non-Null Count  Dtype  \n",
      "---  ------     --------------  -----  \n",
      " 0   1. open    5536 non-null   float64\n",
      " 1   2. high    5536 non-null   float64\n",
      " 2   3. low     5536 non-null   float64\n",
      " 3   4. close   5536 non-null   float64\n",
      " 4   5. volume  5536 non-null   float64\n",
      "dtypes: float64(5)\n",
      "memory usage: 259.5+ KB\n"
     ]
    }
   ],
   "source": [
    "df.info()"
   ]
  },
  {
   "cell_type": "code",
   "execution_count": 20,
   "metadata": {},
   "outputs": [
    {
     "data": {
      "text/plain": [
       "Index(['2021-10-29', '2021-10-28', '2021-10-27', '2021-10-26', '2021-10-25',\n",
       "       '2021-10-22', '2021-10-21', '2021-10-20', '2021-10-19', '2021-10-18',\n",
       "       ...\n",
       "       '1999-11-12', '1999-11-11', '1999-11-10', '1999-11-09', '1999-11-08',\n",
       "       '1999-11-05', '1999-11-04', '1999-11-03', '1999-11-02', '1999-11-01'],\n",
       "      dtype='object', length=5536)"
      ]
     },
     "execution_count": 20,
     "metadata": {},
     "output_type": "execute_result"
    }
   ],
   "source": [
    "df.index"
   ]
  },
  {
   "cell_type": "code",
   "execution_count": 24,
   "metadata": {},
   "outputs": [
    {
     "name": "stdout",
     "output_type": "stream",
     "text": [
      "datetime64[ns]\n"
     ]
    },
    {
     "data": {
      "text/html": [
       "<div>\n",
       "<style scoped>\n",
       "    .dataframe tbody tr th:only-of-type {\n",
       "        vertical-align: middle;\n",
       "    }\n",
       "\n",
       "    .dataframe tbody tr th {\n",
       "        vertical-align: top;\n",
       "    }\n",
       "\n",
       "    .dataframe thead th {\n",
       "        text-align: right;\n",
       "    }\n",
       "</style>\n",
       "<table border=\"1\" class=\"dataframe\">\n",
       "  <thead>\n",
       "    <tr style=\"text-align: right;\">\n",
       "      <th></th>\n",
       "      <th>1. open</th>\n",
       "      <th>2. high</th>\n",
       "      <th>3. low</th>\n",
       "      <th>4. close</th>\n",
       "      <th>5. volume</th>\n",
       "    </tr>\n",
       "  </thead>\n",
       "  <tbody>\n",
       "    <tr>\n",
       "      <th>2021-10-29</th>\n",
       "      <td>147.215</td>\n",
       "      <td>149.940</td>\n",
       "      <td>146.4128</td>\n",
       "      <td>149.80</td>\n",
       "      <td>124953168.0</td>\n",
       "    </tr>\n",
       "    <tr>\n",
       "      <th>2021-10-28</th>\n",
       "      <td>149.820</td>\n",
       "      <td>153.165</td>\n",
       "      <td>149.7200</td>\n",
       "      <td>152.57</td>\n",
       "      <td>100077888.0</td>\n",
       "    </tr>\n",
       "    <tr>\n",
       "      <th>2021-10-27</th>\n",
       "      <td>149.360</td>\n",
       "      <td>149.730</td>\n",
       "      <td>148.4900</td>\n",
       "      <td>148.85</td>\n",
       "      <td>56094929.0</td>\n",
       "    </tr>\n",
       "    <tr>\n",
       "      <th>2021-10-26</th>\n",
       "      <td>149.330</td>\n",
       "      <td>150.840</td>\n",
       "      <td>149.0101</td>\n",
       "      <td>149.32</td>\n",
       "      <td>60893395.0</td>\n",
       "    </tr>\n",
       "    <tr>\n",
       "      <th>2021-10-25</th>\n",
       "      <td>148.680</td>\n",
       "      <td>149.370</td>\n",
       "      <td>147.6211</td>\n",
       "      <td>148.64</td>\n",
       "      <td>50720556.0</td>\n",
       "    </tr>\n",
       "  </tbody>\n",
       "</table>\n",
       "</div>"
      ],
      "text/plain": [
       "            1. open  2. high    3. low  4. close    5. volume\n",
       "2021-10-29  147.215  149.940  146.4128    149.80  124953168.0\n",
       "2021-10-28  149.820  153.165  149.7200    152.57  100077888.0\n",
       "2021-10-27  149.360  149.730  148.4900    148.85   56094929.0\n",
       "2021-10-26  149.330  150.840  149.0101    149.32   60893395.0\n",
       "2021-10-25  148.680  149.370  147.6211    148.64   50720556.0"
      ]
     },
     "execution_count": 24,
     "metadata": {},
     "output_type": "execute_result"
    }
   ],
   "source": [
    "df.index = pd.to_datetime(df.index)\n",
    "print(df.index.dtype)\n",
    "df.head()"
   ]
  },
  {
   "cell_type": "code",
   "execution_count": 26,
   "metadata": {},
   "outputs": [
    {
     "data": {
      "text/html": [
       "<div>\n",
       "<style scoped>\n",
       "    .dataframe tbody tr th:only-of-type {\n",
       "        vertical-align: middle;\n",
       "    }\n",
       "\n",
       "    .dataframe tbody tr th {\n",
       "        vertical-align: top;\n",
       "    }\n",
       "\n",
       "    .dataframe thead th {\n",
       "        text-align: right;\n",
       "    }\n",
       "</style>\n",
       "<table border=\"1\" class=\"dataframe\">\n",
       "  <thead>\n",
       "    <tr style=\"text-align: right;\">\n",
       "      <th></th>\n",
       "      <th>1. open</th>\n",
       "      <th>2. high</th>\n",
       "      <th>3. low</th>\n",
       "      <th>4. close</th>\n",
       "      <th>5. volume</th>\n",
       "    </tr>\n",
       "  </thead>\n",
       "  <tbody>\n",
       "    <tr>\n",
       "      <th>2021-10-29</th>\n",
       "      <td>147.215</td>\n",
       "      <td>149.9400</td>\n",
       "      <td>146.4128</td>\n",
       "      <td>149.80</td>\n",
       "      <td>124953168.0</td>\n",
       "    </tr>\n",
       "    <tr>\n",
       "      <th>2021-10-28</th>\n",
       "      <td>149.820</td>\n",
       "      <td>153.1650</td>\n",
       "      <td>149.7200</td>\n",
       "      <td>152.57</td>\n",
       "      <td>100077888.0</td>\n",
       "    </tr>\n",
       "    <tr>\n",
       "      <th>2021-10-27</th>\n",
       "      <td>149.360</td>\n",
       "      <td>149.7300</td>\n",
       "      <td>148.4900</td>\n",
       "      <td>148.85</td>\n",
       "      <td>56094929.0</td>\n",
       "    </tr>\n",
       "    <tr>\n",
       "      <th>2021-10-26</th>\n",
       "      <td>149.330</td>\n",
       "      <td>150.8400</td>\n",
       "      <td>149.0101</td>\n",
       "      <td>149.32</td>\n",
       "      <td>60893395.0</td>\n",
       "    </tr>\n",
       "    <tr>\n",
       "      <th>2021-10-25</th>\n",
       "      <td>148.680</td>\n",
       "      <td>149.3700</td>\n",
       "      <td>147.6211</td>\n",
       "      <td>148.64</td>\n",
       "      <td>50720556.0</td>\n",
       "    </tr>\n",
       "    <tr>\n",
       "      <th>...</th>\n",
       "      <td>...</td>\n",
       "      <td>...</td>\n",
       "      <td>...</td>\n",
       "      <td>...</td>\n",
       "      <td>...</td>\n",
       "    </tr>\n",
       "    <tr>\n",
       "      <th>2021-01-08</th>\n",
       "      <td>132.430</td>\n",
       "      <td>132.6300</td>\n",
       "      <td>130.2300</td>\n",
       "      <td>132.05</td>\n",
       "      <td>105158245.0</td>\n",
       "    </tr>\n",
       "    <tr>\n",
       "      <th>2021-01-07</th>\n",
       "      <td>128.360</td>\n",
       "      <td>131.6300</td>\n",
       "      <td>127.8600</td>\n",
       "      <td>130.92</td>\n",
       "      <td>109578157.0</td>\n",
       "    </tr>\n",
       "    <tr>\n",
       "      <th>2021-01-06</th>\n",
       "      <td>127.720</td>\n",
       "      <td>131.0499</td>\n",
       "      <td>126.3820</td>\n",
       "      <td>126.60</td>\n",
       "      <td>155087970.0</td>\n",
       "    </tr>\n",
       "    <tr>\n",
       "      <th>2021-01-05</th>\n",
       "      <td>128.890</td>\n",
       "      <td>131.7400</td>\n",
       "      <td>128.4300</td>\n",
       "      <td>131.01</td>\n",
       "      <td>97664898.0</td>\n",
       "    </tr>\n",
       "    <tr>\n",
       "      <th>2021-01-04</th>\n",
       "      <td>133.520</td>\n",
       "      <td>133.6116</td>\n",
       "      <td>126.7600</td>\n",
       "      <td>129.41</td>\n",
       "      <td>143301887.0</td>\n",
       "    </tr>\n",
       "  </tbody>\n",
       "</table>\n",
       "<p>209 rows × 5 columns</p>\n",
       "</div>"
      ],
      "text/plain": [
       "            1. open   2. high    3. low  4. close    5. volume\n",
       "2021-10-29  147.215  149.9400  146.4128    149.80  124953168.0\n",
       "2021-10-28  149.820  153.1650  149.7200    152.57  100077888.0\n",
       "2021-10-27  149.360  149.7300  148.4900    148.85   56094929.0\n",
       "2021-10-26  149.330  150.8400  149.0101    149.32   60893395.0\n",
       "2021-10-25  148.680  149.3700  147.6211    148.64   50720556.0\n",
       "...             ...       ...       ...       ...          ...\n",
       "2021-01-08  132.430  132.6300  130.2300    132.05  105158245.0\n",
       "2021-01-07  128.360  131.6300  127.8600    130.92  109578157.0\n",
       "2021-01-06  127.720  131.0499  126.3820    126.60  155087970.0\n",
       "2021-01-05  128.890  131.7400  128.4300    131.01   97664898.0\n",
       "2021-01-04  133.520  133.6116  126.7600    129.41  143301887.0\n",
       "\n",
       "[209 rows x 5 columns]"
      ]
     },
     "execution_count": 26,
     "metadata": {},
     "output_type": "execute_result"
    }
   ],
   "source": [
    "df.loc[\"2021\"]"
   ]
  },
  {
   "cell_type": "code",
   "execution_count": 29,
   "metadata": {},
   "outputs": [
    {
     "data": {
      "text/html": [
       "<div>\n",
       "<style scoped>\n",
       "    .dataframe tbody tr th:only-of-type {\n",
       "        vertical-align: middle;\n",
       "    }\n",
       "\n",
       "    .dataframe tbody tr th {\n",
       "        vertical-align: top;\n",
       "    }\n",
       "\n",
       "    .dataframe thead th {\n",
       "        text-align: right;\n",
       "    }\n",
       "</style>\n",
       "<table border=\"1\" class=\"dataframe\">\n",
       "  <thead>\n",
       "    <tr style=\"text-align: right;\">\n",
       "      <th></th>\n",
       "      <th>1. open</th>\n",
       "      <th>2. high</th>\n",
       "      <th>3. low</th>\n",
       "      <th>4. close</th>\n",
       "      <th>5. volume</th>\n",
       "    </tr>\n",
       "  </thead>\n",
       "  <tbody>\n",
       "    <tr>\n",
       "      <th>2021-10-29</th>\n",
       "      <td>147.215</td>\n",
       "      <td>149.940</td>\n",
       "      <td>146.4128</td>\n",
       "      <td>149.80</td>\n",
       "      <td>124953168.0</td>\n",
       "    </tr>\n",
       "    <tr>\n",
       "      <th>2021-10-28</th>\n",
       "      <td>149.820</td>\n",
       "      <td>153.165</td>\n",
       "      <td>149.7200</td>\n",
       "      <td>152.57</td>\n",
       "      <td>100077888.0</td>\n",
       "    </tr>\n",
       "    <tr>\n",
       "      <th>2021-10-27</th>\n",
       "      <td>149.360</td>\n",
       "      <td>149.730</td>\n",
       "      <td>148.4900</td>\n",
       "      <td>148.85</td>\n",
       "      <td>56094929.0</td>\n",
       "    </tr>\n",
       "    <tr>\n",
       "      <th>2021-10-26</th>\n",
       "      <td>149.330</td>\n",
       "      <td>150.840</td>\n",
       "      <td>149.0101</td>\n",
       "      <td>149.32</td>\n",
       "      <td>60893395.0</td>\n",
       "    </tr>\n",
       "    <tr>\n",
       "      <th>2021-10-25</th>\n",
       "      <td>148.680</td>\n",
       "      <td>149.370</td>\n",
       "      <td>147.6211</td>\n",
       "      <td>148.64</td>\n",
       "      <td>50720556.0</td>\n",
       "    </tr>\n",
       "    <tr>\n",
       "      <th>2021-10-22</th>\n",
       "      <td>149.690</td>\n",
       "      <td>150.180</td>\n",
       "      <td>148.6400</td>\n",
       "      <td>148.69</td>\n",
       "      <td>58883443.0</td>\n",
       "    </tr>\n",
       "    <tr>\n",
       "      <th>2021-10-21</th>\n",
       "      <td>148.810</td>\n",
       "      <td>149.640</td>\n",
       "      <td>147.8700</td>\n",
       "      <td>149.48</td>\n",
       "      <td>61420990.0</td>\n",
       "    </tr>\n",
       "  </tbody>\n",
       "</table>\n",
       "</div>"
      ],
      "text/plain": [
       "            1. open  2. high    3. low  4. close    5. volume\n",
       "2021-10-29  147.215  149.940  146.4128    149.80  124953168.0\n",
       "2021-10-28  149.820  153.165  149.7200    152.57  100077888.0\n",
       "2021-10-27  149.360  149.730  148.4900    148.85   56094929.0\n",
       "2021-10-26  149.330  150.840  149.0101    149.32   60893395.0\n",
       "2021-10-25  148.680  149.370  147.6211    148.64   50720556.0\n",
       "2021-10-22  149.690  150.180  148.6400    148.69   58883443.0\n",
       "2021-10-21  148.810  149.640  147.8700    149.48   61420990.0"
      ]
     },
     "execution_count": 29,
     "metadata": {},
     "output_type": "execute_result"
    }
   ],
   "source": [
    "df.loc[\"2021-10-20\":\"2021-10-29\"]"
   ]
  },
  {
   "cell_type": "code",
   "execution_count": 6,
   "metadata": {},
   "outputs": [
    {
     "ename": "KeyError",
     "evalue": "'Time Series (Daily)'",
     "output_type": "error",
     "traceback": [
      "\u001b[1;31m---------------------------------------------------------------------------\u001b[0m",
      "\u001b[1;31mKeyError\u001b[0m                                  Traceback (most recent call last)",
      "\u001b[1;32m~\\AppData\\Local\\Temp/ipykernel_4364/612563459.py\u001b[0m in \u001b[0;36m<module>\u001b[1;34m\u001b[0m\n\u001b[0;32m     17\u001b[0m     \u001b[0murl\u001b[0m \u001b[1;33m=\u001b[0m \u001b[1;34mf\"https://www.alphavantage.co/query?function=TIME_SERIES_DAILY&symbol={symbol}&outputsize=full&apikey={api_key}\"\u001b[0m\u001b[1;33m\u001b[0m\u001b[1;33m\u001b[0m\u001b[0m\n\u001b[0;32m     18\u001b[0m     \u001b[0mdata\u001b[0m \u001b[1;33m=\u001b[0m \u001b[0mrequests\u001b[0m\u001b[1;33m.\u001b[0m\u001b[0mget\u001b[0m\u001b[1;33m(\u001b[0m\u001b[0murl\u001b[0m\u001b[1;33m)\u001b[0m\u001b[1;33m.\u001b[0m\u001b[0mjson\u001b[0m\u001b[1;33m(\u001b[0m\u001b[1;33m)\u001b[0m\u001b[1;33m\u001b[0m\u001b[1;33m\u001b[0m\u001b[0m\n\u001b[1;32m---> 19\u001b[1;33m     \u001b[0mdf\u001b[0m \u001b[1;33m=\u001b[0m \u001b[0mpd\u001b[0m\u001b[1;33m.\u001b[0m\u001b[0mDataFrame\u001b[0m\u001b[1;33m(\u001b[0m\u001b[0mdata\u001b[0m\u001b[1;33m[\u001b[0m\u001b[1;34m\"Time Series (Daily)\"\u001b[0m\u001b[1;33m]\u001b[0m\u001b[1;33m)\u001b[0m\u001b[1;33m.\u001b[0m\u001b[0mtranspose\u001b[0m\u001b[1;33m(\u001b[0m\u001b[1;33m)\u001b[0m\u001b[1;33m\u001b[0m\u001b[1;33m\u001b[0m\u001b[0m\n\u001b[0m\u001b[0;32m     20\u001b[0m     \u001b[0mdf\u001b[0m \u001b[1;33m=\u001b[0m \u001b[0mdf\u001b[0m\u001b[1;33m[\u001b[0m\u001b[1;34m\"4. close\"\u001b[0m\u001b[1;33m]\u001b[0m\u001b[1;33m.\u001b[0m\u001b[0mrename\u001b[0m\u001b[1;33m(\u001b[0m\u001b[0msymbol\u001b[0m\u001b[1;33m)\u001b[0m\u001b[1;33m.\u001b[0m\u001b[0mastype\u001b[0m\u001b[1;33m(\u001b[0m\u001b[0mfloat\u001b[0m\u001b[1;33m)\u001b[0m\u001b[1;33m\u001b[0m\u001b[1;33m\u001b[0m\u001b[0m\n\u001b[0;32m     21\u001b[0m     \u001b[0mstock_list\u001b[0m\u001b[1;33m.\u001b[0m\u001b[0mappend\u001b[0m\u001b[1;33m(\u001b[0m\u001b[0mdf\u001b[0m\u001b[1;33m)\u001b[0m\u001b[1;33m\u001b[0m\u001b[1;33m\u001b[0m\u001b[0m\n",
      "\u001b[1;31mKeyError\u001b[0m: 'Time Series (Daily)'"
     ]
    }
   ],
   "source": [
    "import requests\n",
    "from dotenv import load_dotenv\n",
    "import pandas as pd \n",
    "import seaborn as sns \n",
    "import matplotlib.pyplot as plt \n",
    "import os\n",
    "import time \n",
    "\n",
    "symbols = [\"AAPL\", \"TSLA\", \"NVDA\", \"IBM\"]\n",
    "stock_list = []\n",
    "\n",
    "load_dotenv()\n",
    "api_key = os.getenv(\"ALPHA_API_KEY\")\n",
    "\n",
    "# print(api_key)\n",
    "for symbol in symbols:\n",
    "    url = f\"https://www.alphavantage.co/query?function=TIME_SERIES_DAILY&symbol={symbol}&outputsize=full&apikey={api_key}\"\n",
    "    data = requests.get(url).json()\n",
    "    df = pd.DataFrame(data[\"Time Series (Daily)\"]).transpose()\n",
    "    df = df[\"4. close\"].rename(symbol).astype(float)\n",
    "    stock_list.append(df)\n",
    "    time.sleep(20)\n",
    "\n"
   ]
  },
  {
   "cell_type": "code",
   "execution_count": null,
   "metadata": {},
   "outputs": [],
   "source": [
    "stocks = pd.concat(stock_list, axis=1)\n",
    "stocks.to_csv(\"stocks.csv\")"
   ]
  },
  {
   "cell_type": "code",
   "execution_count": 11,
   "metadata": {},
   "outputs": [
    {
     "data": {
      "text/html": [
       "<div>\n",
       "<style scoped>\n",
       "    .dataframe tbody tr th:only-of-type {\n",
       "        vertical-align: middle;\n",
       "    }\n",
       "\n",
       "    .dataframe tbody tr th {\n",
       "        vertical-align: top;\n",
       "    }\n",
       "\n",
       "    .dataframe thead th {\n",
       "        text-align: right;\n",
       "    }\n",
       "</style>\n",
       "<table border=\"1\" class=\"dataframe\">\n",
       "  <thead>\n",
       "    <tr style=\"text-align: right;\">\n",
       "      <th></th>\n",
       "      <th>AAPL</th>\n",
       "      <th>TSLA</th>\n",
       "      <th>NVDA</th>\n",
       "      <th>IBM</th>\n",
       "    </tr>\n",
       "  </thead>\n",
       "  <tbody>\n",
       "    <tr>\n",
       "      <th>2021-10-29</th>\n",
       "      <td>149.80</td>\n",
       "      <td>1114.00</td>\n",
       "      <td>255.67</td>\n",
       "      <td>125.10</td>\n",
       "    </tr>\n",
       "    <tr>\n",
       "      <th>2021-10-28</th>\n",
       "      <td>152.57</td>\n",
       "      <td>1077.04</td>\n",
       "      <td>249.41</td>\n",
       "      <td>125.84</td>\n",
       "    </tr>\n",
       "    <tr>\n",
       "      <th>2021-10-27</th>\n",
       "      <td>148.85</td>\n",
       "      <td>1037.86</td>\n",
       "      <td>244.51</td>\n",
       "      <td>125.17</td>\n",
       "    </tr>\n",
       "    <tr>\n",
       "      <th>2021-10-26</th>\n",
       "      <td>149.32</td>\n",
       "      <td>1018.43</td>\n",
       "      <td>247.17</td>\n",
       "      <td>127.13</td>\n",
       "    </tr>\n",
       "    <tr>\n",
       "      <th>2021-10-25</th>\n",
       "      <td>148.64</td>\n",
       "      <td>1024.86</td>\n",
       "      <td>231.66</td>\n",
       "      <td>127.64</td>\n",
       "    </tr>\n",
       "  </tbody>\n",
       "</table>\n",
       "</div>"
      ],
      "text/plain": [
       "              AAPL     TSLA    NVDA     IBM\n",
       "2021-10-29  149.80  1114.00  255.67  125.10\n",
       "2021-10-28  152.57  1077.04  249.41  125.84\n",
       "2021-10-27  148.85  1037.86  244.51  125.17\n",
       "2021-10-26  149.32  1018.43  247.17  127.13\n",
       "2021-10-25  148.64  1024.86  231.66  127.64"
      ]
     },
     "execution_count": 11,
     "metadata": {},
     "output_type": "execute_result"
    }
   ],
   "source": [
    "stocks = pd.read_csv(\"stocks.csv\", index_col=0, parse_dates=True)\n",
    "stocks.head()"
   ]
  },
  {
   "cell_type": "code",
   "execution_count": 14,
   "metadata": {},
   "outputs": [
    {
     "name": "stdout",
     "output_type": "stream",
     "text": [
      "<class 'pandas.core.frame.DataFrame'>\n",
      "DatetimeIndex: 5536 entries, 2021-10-29 to 1999-11-01\n",
      "Data columns (total 4 columns):\n",
      " #   Column  Non-Null Count  Dtype  \n",
      "---  ------  --------------  -----  \n",
      " 0   AAPL    5536 non-null   float64\n",
      " 1   TSLA    2856 non-null   float64\n",
      " 2   NVDA    5536 non-null   float64\n",
      " 3   IBM     5536 non-null   float64\n",
      "dtypes: float64(4)\n",
      "memory usage: 216.2 KB\n"
     ]
    }
   ],
   "source": [
    "stocks.info()"
   ]
  },
  {
   "cell_type": "code",
   "execution_count": 30,
   "metadata": {},
   "outputs": [
    {
     "name": "stdout",
     "output_type": "stream",
     "text": [
      "(2, 2)\n",
      "(4,)\n"
     ]
    },
    {
     "data": {
      "image/png": "[encoded data removed]",
      "text/plain": [
       "<Figure size 1200x600 with 4 Axes>"
      ]
     },
     "metadata": {
      "needs_background": "light"
     },
     "output_type": "display_data"
    }
   ],
   "source": [
    "fig, axes = plt.subplots(2,2, dpi=100, figsize=(12,6))\n",
    "print(axes.shape)\n",
    "print(axes.flatten().shape)\n",
    "\n",
    "stock_2021 = stocks.loc[\"2021\"]\n",
    "\n",
    "stock_names = dict(AAPL=\"Apple\", NVDA = \"Nvidia\", TSLA = \"Tesla\", IBM = \"IBM\")\n",
    "for ax, symbol in zip(axes.flatten(), stock_names):\n",
    "    #print(symbol)\n",
    "    sns.lineplot(data=stock_2021, x=stock_2021.index, y=symbol, ax=ax)\n",
    "    ax.tick_params(axis=\"x\", rotation=45)\n",
    "    ax.set(title=f\"{stock_names[symbol]}\", ylabel=\"Price in dollars $\")\n",
    "\n",
    "fig.tight_layout()\n",
    "fig.suptitle(\"Stocks during 2021\", y=1.03, fontweight=\"bold\")\n",
    "plt.savefig(\"stocks2021.png\", facecolor=\"white\")"
   ]
  },
  {
   "cell_type": "markdown",
   "metadata": {},
   "source": []
  }
 ],
 "metadata": {
  "interpreter": {
   "hash": "17cfc18dd0b69afd26dfc13b7b260b21c05171b74600dba7cbd26d0598e650e6"
  },
  "kernelspec": {
   "display_name": "Python 3.9.6 64-bit ('Databehandling--bsp-T9-': pipenv)",
   "name": "python3"
  },
  "language_info": {
   "codemirror_mode": {
    "name": "ipython",
    "version": 3
   },
   "file_extension": ".py",
   "mimetype": "text/x-python",
   "name": "python",
   "nbconvert_exporter": "python",
   "pygments_lexer": "ipython3",
   "version": "3.9.6"
  },
  "orig_nbformat": 4
 },
 "nbformat": 4,
 "nbformat_minor": 2
}
